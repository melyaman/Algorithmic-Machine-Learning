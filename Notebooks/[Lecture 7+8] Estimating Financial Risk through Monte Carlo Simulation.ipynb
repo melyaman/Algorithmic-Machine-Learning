{
 "cells": [
  {
   "cell_type": "markdown",
   "metadata": {},
   "source": [
    "<div>\n",
    "<h1>Run the cell below to generate the road map (do not modify it)</h1></div>"
   ]
  },
  {
   "cell_type": "code",
   "execution_count": 7,
   "metadata": {
    "collapsed": false
   },
   "outputs": [
    {
     "data": {
      "application/javascript": [
       "var kernel = IPython.notebook.kernel;var thename = window.document.getElementById(\"notebook_name\").innerHTML;var command = \"THE_NOTEBOOK = \" + \"'\"+thename+\"'\";kernel.execute(command);command=\"os.environ['THE_NOTEBOOK'] = THE_NOTEBOOK\";kernel.execute(command);var cell = IPython.notebook.get_cell(2);cell.execute();IPython.notebook.get_cell(3).focus_cell();var x = $('.code_cell');$(x[1]).children('.input').hide();"
      ],
      "text/plain": [
       "<IPython.core.display.Javascript object>"
      ]
     },
     "metadata": {},
     "output_type": "display_data"
    }
   ],
   "source": [
    "%%javascript\n",
    "var kernel = IPython.notebook.kernel;var thename = window.document.getElementById(\"notebook_name\").innerHTML;var command = \"THE_NOTEBOOK = \" + \"'\"+thename+\"'\";kernel.execute(command);command=\"os.environ['THE_NOTEBOOK'] = THE_NOTEBOOK\";kernel.execute(command);var cell = IPython.notebook.get_cell(2);cell.execute();IPython.notebook.get_cell(3).focus_cell();var x = $('.code_cell');$(x[1]).children('.input').hide();"
   ]
  },
  {
   "cell_type": "code",
   "execution_count": 8,
   "metadata": {
    "collapsed": false
   },
   "outputs": [
    {
     "ename": "IOError",
     "evalue": "[Errno 2] No such file or directory: '/tmp/tools/monte_calo_sim.ipynb.html'",
     "output_type": "error",
     "traceback": [
      "\u001b[1;31m---------------------------------------------------------------------------\u001b[0m",
      "\u001b[1;31mIOError\u001b[0m                                   Traceback (most recent call last)",
      "\u001b[1;32m<ipython-input-8-14ee1c728cdb>\u001b[0m in \u001b[0;36m<module>\u001b[1;34m()\u001b[0m\n\u001b[0;32m      6\u001b[0m \u001b[1;32mfrom\u001b[0m \u001b[0mIPython\u001b[0m\u001b[1;33m.\u001b[0m\u001b[0mcore\u001b[0m\u001b[1;33m.\u001b[0m\u001b[0mdisplay\u001b[0m \u001b[1;32mimport\u001b[0m \u001b[0mHTML\u001b[0m\u001b[1;33m\u001b[0m\u001b[0m\n\u001b[0;32m      7\u001b[0m \u001b[0moutput_file_name\u001b[0m \u001b[1;33m=\u001b[0m \u001b[0moutputdir\u001b[0m \u001b[1;33m+\u001b[0m \u001b[0mTHE_NOTEBOOK\u001b[0m\u001b[1;33m.\u001b[0m\u001b[0mreplace\u001b[0m\u001b[1;33m(\u001b[0m\u001b[1;34m\" \"\u001b[0m\u001b[1;33m,\u001b[0m \u001b[1;34m\"\"\u001b[0m\u001b[1;33m)\u001b[0m\u001b[1;33m.\u001b[0m\u001b[0mreplace\u001b[0m\u001b[1;33m(\u001b[0m\u001b[1;34m\"[\"\u001b[0m\u001b[1;33m,\u001b[0m \u001b[1;34m\"\"\u001b[0m\u001b[1;33m)\u001b[0m\u001b[1;33m.\u001b[0m\u001b[0mreplace\u001b[0m\u001b[1;33m(\u001b[0m\u001b[1;34m\"]\"\u001b[0m\u001b[1;33m,\u001b[0m \u001b[1;34m\"\"\u001b[0m\u001b[1;33m)\u001b[0m \u001b[1;33m+\u001b[0m \u001b[1;34m\".ipynb.html\"\u001b[0m\u001b[1;33m\u001b[0m\u001b[0m\n\u001b[1;32m----> 8\u001b[1;33m \u001b[1;32mwith\u001b[0m \u001b[0mopen\u001b[0m\u001b[1;33m(\u001b[0m\u001b[0moutput_file_name\u001b[0m\u001b[1;33m)\u001b[0m \u001b[1;32mas\u001b[0m \u001b[0mfp\u001b[0m\u001b[1;33m:\u001b[0m\u001b[1;33m\u001b[0m\u001b[0m\n\u001b[0m\u001b[0;32m      9\u001b[0m     \u001b[0mhtml\u001b[0m \u001b[1;33m=\u001b[0m \u001b[0mfp\u001b[0m\u001b[1;33m.\u001b[0m\u001b[0mread\u001b[0m\u001b[1;33m(\u001b[0m\u001b[1;33m)\u001b[0m\u001b[1;33m\u001b[0m\u001b[0m\n\u001b[0;32m     10\u001b[0m \u001b[0mHTML\u001b[0m\u001b[1;33m(\u001b[0m\u001b[0mhtml\u001b[0m\u001b[1;33m)\u001b[0m\u001b[1;33m\u001b[0m\u001b[0m\n",
      "\u001b[1;31mIOError\u001b[0m: [Errno 2] No such file or directory: '/tmp/tools/monte_calo_sim.ipynb.html'"
     ]
    }
   ],
   "source": [
    "outputdir = \"/tmp/tools/\"\n",
    "!mkdir -p $outputdir\n",
    "!wget \"https://www.dropbox.com/s/4g0pigmro4vo1b4/menutemplate?dl=0\" -O /tmp/tools/menutemplate >> /tmp/toollog 2>&1 \n",
    "!wget \"https://www.dropbox.com/s/3flttpzhsja8td7/construct_menu.py?dl=0\" -O /tmp/tools/construct_menu.py >> /tmp/toollog 2>&1 \n",
    "!python /tmp/tools/construct_menu.py \"{THE_NOTEBOOK}.ipynb\" {outputdir}\n",
    "from IPython.core.display import HTML\n",
    "output_file_name = outputdir + THE_NOTEBOOK.replace(\" \", \"\").replace(\"[\", \"\").replace(\"]\", \"\") + \".ipynb.html\"\n",
    "with open(output_file_name) as fp:\n",
    "    html = fp.read()\n",
    "HTML(html)"
   ]
  },
  {
   "cell_type": "markdown",
   "metadata": {},
   "source": [
    "# Estimating Financial Risk through Monte Carlo Simulation\n",
    "Risk analysis is part of every decision we make when faced with uncertainty, ambiguity, and variability. Indeed, even though we have unprecedented access to information, we can't accurately predict the future. In finance, there is a fair amount of uncertainty and risk involved with estimating the future value of financial products, due to the wide variety of potential outcomes. Monte Carlo simulation (also known as the Monte Carlo Method) allows inspecting many possible outcomes of the decision making process, and can be used to assess the impact of risk: this, in turns, allows for better decision making under uncertainty.\n",
    "\n",
    "## Goals\n",
    "The main objectives we set for this Notebook are as follows:\n",
    "1. Develop fudamental knowledge about Risk analysis\n",
    "2. Understand Monte Carlo Simulation (MCS)\n",
    "3. Apply Monte Carlo Simulation for predicting risk\n",
    "\n",
    "\n",
    "## Steps\n",
    "1. First, in section 1, we introduce the basics of MCS\n",
    "2. In section 2, we work on a simple example to where we apply the MCS method\n",
    "3. In section 3, we briefly summarize the main characteristics of the Monte Carlo Simulation (MCS) technique\n",
    "4. In section 4, we overview the common distributions which are often used in MCS\n",
    "5. In section 5, we work on a real use case, that focuses on estimating financial risk. We will use techniques such as featurizing (that is, generating additional features to improve model accuracy), linear regression, kernel density estimation, sampling distributions and so on ...\n",
    "\n",
    "## Reference\n",
    "This Notebook is inspired by Chapter 9 of the book [Advanced Analytics with Spark](http://shop.oreilly.com/product/0636920035091.do) by Josh Wills, Sandy Ryza, Sean Owen, and Uri Laserson. It is strongly suggested to read this Chapter to get a general idea of the topic of this Notebook.\n",
    "\n",
    "# 1. Introduction\n",
    "\n",
    "## 1.1. Monte Carlo Simulation (MCS)\n",
    "Monte Carlo simulation is a computerized mathematical technique that can be applied such that it is possible to account for risk in quantitative analysis and decision making. This technique is used in many different fields, such as R&D, risk management, portfolio management, pricing derivatives, strategic planning, project planning, cost modeling and many more.\n",
    "\n",
    "In general, MCS is a technique that \"converts\" uncertainty on input variables of a model into **probability distributions**. By combining the distributions and randomly selecting values from them, it recalculates the simulated model many times, to determine the probability of the output.\n",
    "\n",
    "Historically, this technique was first used by scientists working on the atomic bomb: it was named after Monte Carlo, the Monaco resort town renowned for its casinos.  Since its introduction in World War II, Monte Carlo simulation has been used to model a variety of physical and conceptual systems.\n",
    "\n",
    "## 1.2. How does it work?\n",
    "Monte Carlo simulation performs risk analysis by building models of possible results by *substituting a range of possible input values, that constitute uncertainty, into a statistical distribution*. It then computes possible outcomes repeatedly, each time using a different set of random values from the probability functions that \"model\" the input. Depending upon the number of random input variables and their distribution, a Monte Carlo simulation could involve thousands or tens of thousands of \"rounds\" before it is complete. When complete, *Monte Carlo simulation produces distributions of possible outcome values*.\n",
    "\n",
    "By using probability distributions instead of actual input samples, it is possible to model more accurately uncertainty: different choices of distributions will yield different outputs."
   ]
  },
  {
   "cell_type": "markdown",
   "metadata": {},
   "source": [
    "# 2. Illustrative example\n",
    "\n",
    "Imagine you are the marketing manager for a firm that is planning to introduce a new product. You need to estimate the first year net profit from this product, which might depend on:\n",
    "\n",
    "- Sales volume in units\n",
    "- Price per unit (also called \"Selling price\")\n",
    "- Unit cost\n",
    "- Fixed costs\n",
    "\n",
    "Net profit will be calculated as $Net Profit = Sales Volume* (Selling Price - Unit cost) - Fixed costs$.  Fixed costs (accounting for various overheads, advertising budget, etc.) are known to be \\$ 120,000, which we assume to be deterministic. All other factors, instead, involve some uncertainty: *sales volume* (in units) can cover quite a large range, the *selling price* per unit will depend on competitor actions, which are hard to predict, and *unit costs* will also vary depending on vendor prices and production experience, for example.\n",
    "\n",
    "Now, to build a risk analysis model, we must first identify the uncertain variables -- which are essentially random variables.  While there's some uncertainty in almost all variables in a business model, we want to focus on variables where the range of values is significant."
   ]
  },
  {
   "cell_type": "markdown",
   "metadata": {},
   "source": [
    "## 2.1. Unit sales and unit price\n",
    "\n",
    "Based on an hypothetical market research you have done, you have beliefs that there are equal chances for the market to be `slow`, `normal`, or `hot`:\n",
    "\n",
    "- In a \"slow\" market, you expect to sell 50,000 units at an average selling price of \\$11.00 per unit\n",
    "- In a \"normal\" market, you expect to sell 75,000 units, but you'll likely realize a lower average selling price of \\$10.00 per unit\n",
    "- In a \"hot\" market, you expect to sell 100,000 units, but this will bring in competitors, who will drive down the average selling price to \\$8.00 per unit"
   ]
  },
  {
   "cell_type": "markdown",
   "metadata": {},
   "source": [
    "![](https://farm2.staticflickr.com/1604/24934700445_833f0a5649_t.jpg)"
   ]
  },
  {
   "cell_type": "markdown",
   "metadata": {},
   "source": [
    "<div class='anchor' ></div>\n",
    "### Question 1\n",
    "\n",
    "Calculate the average units and the unit price that you expect to sell, which depend on the market state. Use the assumptions above to compute the expected quantity of products and their expected unit price. \n"
   ]
  },
  {
   "cell_type": "code",
   "execution_count": 177,
   "metadata": {
    "collapsed": false
   },
   "outputs": [
    {
     "name": "stdout",
     "output_type": "stream",
     "text": [
      "average unit: 75000.0\n",
      "average_price: 9.666666666666666\n"
     ]
    }
   ],
   "source": [
    "average_unit = (50000 + 75000 + 100000) / 3\n",
    "average_price = (11 + 10 + 8) / 3\n",
    "print(\"average unit:\", average_unit)\n",
    "print(\"average_price:\", average_price)"
   ]
  },
  {
   "cell_type": "markdown",
   "metadata": {},
   "source": [
    "## 2.2. Unit Cost\n",
    "\n",
    "Another uncertain variable is Unit Cost. In our illustrative example, we assume that your firm's production manager advises you that unit costs may be anywhere from \\$5.50 to \\$7.50, with a most likely expected cost of \\$6.50. In this case, the most likely cost can be considered as the average cost.\n",
    "\n",
    "## 2.3. A Flawed Model: using averages to represent our random variables\n",
    "Our next step is to identify uncertain functions -- also called functions of a random variable.  Recall that Net Profit is calculated as $Net Profit = Sales Volume * (Selling Price - Unit cost) - Fixed costs$.  However, Sales Volume, Selling Price and Unit Cost are all uncertain variables, so Net Profit is an uncertain function.\n",
    "\n",
    "The most simple model to predict the Net Profit is using average of sales volume, average of selling price and average of unit cost for calculating. So, if only consider averages, we can say that the $Net Profit = 75,000*(9.66666666 - 6.5) - 120,000 \\sim 117,500$.\n",
    "\n",
    "However, as [Dr. Sam Savage](http://web.stanford.edu/~savage/faculty/savage/) warns, \"Plans based on average assumptions will be wrong on average.\" The calculated result is far from the actual value: indeed, the **true average Net Profit** is roughly  \\$93,000, as we will see later in the example."
   ]
  },
  {
   "cell_type": "markdown",
   "metadata": {},
   "source": [
    "![](https://farm2.staticflickr.com/1604/24934700445_833f0a5649_t.jpg)"
   ]
  },
  {
   "cell_type": "markdown",
   "metadata": {},
   "source": [
    "<div class='anchor' ></div>\n",
    "### Question 2\n",
    "#### Question 2.1\n",
    "Write a function named `calNetProfit` to calculate the Net Profit using the average of sales volume, the average of selling price and the average of unit cost."
   ]
  },
  {
   "cell_type": "code",
   "execution_count": 178,
   "metadata": {
    "collapsed": false
   },
   "outputs": [
    {
     "name": "stdout",
     "output_type": "stream",
     "text": [
      "Net profit: 117499.99999999994\n"
     ]
    }
   ],
   "source": [
    "def calNetProfit(average_unit, average_price, average_unitcost, fixed_cost):\n",
    "    return average_unit * (average_price - average_unitcost) - fixed_cost\n",
    "\n",
    "average_unitcost = 6.5\n",
    "fixed_cost = 120000\n",
    "NetProfit = calNetProfit(average_unit, average_price, average_unitcost, fixed_cost)\n",
    "print(\"Net profit:\", NetProfit)"
   ]
  },
  {
   "cell_type": "markdown",
   "metadata": {},
   "source": [
    "<div class='anchor' ></div>\n",
    "#### Question 2.2\n",
    "Verify the warning message of Dr. Sam Savage by calculating the error of our estimated Net Profit using averages only. Recall that the true value is roughly \\$93,000, so we are interested in:\n",
    "\n",
    "$$ error = \\frac{your\\_value - true\\_value}{true\\_value}$$\n",
    "\n",
    "Note also we are interested in displaying the error as a percentage.\n",
    "\n",
    "Looking at the error we make, do you think that we can use the current model that only relies on averages?"
   ]
  },
  {
   "cell_type": "code",
   "execution_count": 179,
   "metadata": {
    "collapsed": false
   },
   "outputs": [
    {
     "name": "stdout",
     "output_type": "stream",
     "text": [
      "Error in percentage: 26.344086021505316\n"
     ]
    }
   ],
   "source": [
    "trueNetProfit = 93000\n",
    "error = (NetProfit - trueNetProfit) / (trueNetProfit)\n",
    "print(\"Error in percentage:\", error * 100)"
   ]
  },
  {
   "cell_type": "markdown",
   "metadata": {},
   "source": [
    "<div class=\"comment\">\n",
    "\n",
    "PUT YOUR COMMENT HERE\n",
    "\n",
    "</div>"
   ]
  },
  {
   "cell_type": "markdown",
   "metadata": {},
   "source": [
    "## 2.4. Using the Monte Carlo Simulation method to improve our model\n",
    "As discussed before, the selling price and selling volume both depend on the state of the market scenario (slow/normal/hot). So, the net profit is the result of two random variables: `market scenario` (which in turn determines `sales volumes` and `selling price`) and `unit cost`.\n",
    "\n",
    "Now, let's assume (this is an *a-priori* assumption we make) that `market scenario` follows a discrete, uniform distribution and that `unit cost` also follows a uniform distribution. Then, we can compute directly the values for selling price and selling volumes based on the outcome of the random variable `market scenario`, as shown in Section 2.1.\n",
    "\n",
    "From these a-priori distributions, in each run (or trial) of our Monte Carlo simulation, we can generate the sample value for each random variable and use it to calculate the Net Profit. The more simulation runs, the more accurate our results will be. For example, if we run the silmulation 100,000 times, the average net profit will amount to roughly \\$92,600. Every time we run the simulation, a different prediction will be output: the average of such predictions will consistently be less than \\$117,500, which we predicted using averages only.\n",
    "\n",
    "Note also that in this simple example, we generate values for the `market scenario` and `unit cost` independently: we consider them to be **independent random variables**. This means that the eventual (and realistic!) correlation between the `market scenario` and `unit cost` variables is ignored. Later, we will learn how to be more precise and account for dependency between random variables.\n"
   ]
  },
  {
   "cell_type": "markdown",
   "metadata": {},
   "source": [
    "![](https://farm2.staticflickr.com/1604/24934700445_833f0a5649_t.jpg)"
   ]
  },
  {
   "cell_type": "markdown",
   "metadata": {},
   "source": [
    "<div class='anchor' ></div>\n",
    "### Question 3\n",
    "#### Question 3.1\n",
    "Write a function named `get_sales_volume_price` that returns the sales volume and price based on the market scenario. In particular, the scenario can get one of three values:\n",
    "\n",
    "* 0: Slow market\n",
    "* 1: Normal market\n",
    "* 2: Hot market\n",
    "\n",
    "The return value is a tuple in the form: `(sales_volume, price)`"
   ]
  },
  {
   "cell_type": "code",
   "execution_count": 180,
   "metadata": {
    "collapsed": true
   },
   "outputs": [],
   "source": [
    "# Get sales volume and  price based on market scenario\n",
    "# the function returns a tuple of (sales_volume, price)\n",
    "def get_sales_volume_price(scenario):\n",
    "    # Slow market\n",
    "    if scenario == 0:\n",
    "        return (50000,11)\n",
    "    # Normal market\n",
    "    if scenario == 1:\n",
    "        return (75000,10)\n",
    "    # Hot market\n",
    "    if scenario == 2:\n",
    "        return (100000,8)"
   ]
  },
  {
   "cell_type": "markdown",
   "metadata": {},
   "source": [
    "<div class='anchor' ></div>\n",
    "#### Question 3.2\n",
    "Run 100,000 Monte Carlo simulations and calculate the average net profit they produce. Then, compare the result to the \"average model\" we used in the previous questions (the one we called \"flawed\" model). Put your comments about the discrepancies between a simplistic model, and the more accurate MCS approach.\n",
    "\n",
    "Note that in each iteration, the `unit_cost` and `market_scenario` are generated according to their distributions. Also, recall what we have seen in Section 2.2: your firm account manager helped you with some research, to determine the variability of your random variables.\n",
    "\n",
    "\n",
    "HINT: \n",
    "Funtion `uniform(a,b)` in module `random` generates a number $a<=c<=b$, which is drawn from a uniform distribution.\n",
    "Function `randint(a,b)` helps you generating an integer number $a<=c<=b$"
   ]
  },
  {
   "cell_type": "code",
   "execution_count": 181,
   "metadata": {
    "collapsed": false
   },
   "outputs": [
    {
     "name": "stdout",
     "output_type": "stream",
     "text": [
      "average net profit: 92749.50827225231\n"
     ]
    }
   ],
   "source": [
    "import random\n",
    "\n",
    "total = 0.0\n",
    "num_simulation = 100000\n",
    "for i in range(0,num_simulation):\n",
    "    unit_cost = random.uniform(5.5, 7.5)\n",
    "    market_scenario = random.randint(0, 2)\n",
    "    sales_volume, price = get_sales_volume_price(market_scenario)\n",
    "    netProfit = calNetProfit(sales_volume, price, unit_cost, fixed_cost)\n",
    "    total = total + netProfit\n",
    "\n",
    "print(\"average net profit:\", total / num_simulation)"
   ]
  },
  {
   "cell_type": "markdown",
   "metadata": {},
   "source": [
    "<div class=\"comment\">\n",
    "PUT YOUR COMMENT HERE\n",
    "</div>"
   ]
  },
  {
   "cell_type": "markdown",
   "metadata": {},
   "source": [
    "\n",
    "# 3. A brief summary of the Monte Carlo Simulation (MCS) technique\n",
    "\n",
    "- A MCS allows several inputs to be used at the same time to compute the probability distribution of one or more outputs\n",
    "- Different types of probability distributions can be assigned to the inputs of the model, depending on any *a-priori* information that is available. When the distribution is completely unknown, a common technique is to use a distribution computed by finding the best fit to the data you have\n",
    "- The MCS method is also called a **stochastic method** because it uses random variables. Note also that the general assumption is for input random variables to be independent from eachother. When this is not the case, there are techniques to account for correlation between random variables.\n",
    "- A MCS generates the output as a range instead of a fixed value and shows how likely the output value is to occur in that range. In other words, the model outputs a probability distribution."
   ]
  },
  {
   "cell_type": "markdown",
   "metadata": {
    "collapsed": true
   },
   "source": [
    "# 4. Common distributions used in MCS\n",
    "In what follows, we summarize the most common probability distributions that are used as *a-priori* distributions for input random variables:\n",
    "\n",
    "- *Normal/Gaussian Distribution*: this is a continuous distribution applied in situations where the mean and the standard deviation of a given input variable are given, and the mean represents the most probable value of the variable. In other words, values \"near\" the mean are most likely to occur.  This is symmetric distribution, and it is not bounded in its co-domain. It is very often used to  describe natural phenomena, such as people’s heights, inflation rates, energy prices, and so on and so forth. An illustration of a normal distribution is given below:\n",
    "![normal_distribution](https://upload.wikimedia.org/wikipedia/commons/thumb/7/74/Normal_Distribution_PDF.svg/320px-Normal_Distribution_PDF.svg.png)\n",
    "\n",
    "- *Lognormal Distribution* : this is a distribution which is appropriate for variables taking values in the range $[0, \\infty]$. Values are positively skewed, not symmetric like a normal distribution.  Examples of variables described by a lognormal distributions include, for example, real estate property values, stock prices, and oil reserves. An illustration of a lognormal distribution is given below:\n",
    "![log_normal_distribution](https://upload.wikimedia.org/wikipedia/commons/thumb/a/ae/PDF-log_normal_distributions.svg/320px-PDF-log_normal_distributions.svg.png) \n",
    "\n",
    "- *Triangular Distribution* : this is a continuous distribution with fixed minimum and maximum values. It is bounded by the minimum and maximum values and can be either symmetrical (the most probable value = mean = median) or asymmetrical. Values around the most likely value (e.g. the mean) are more likely to occur.  Variables that could be described by a triangular distribution include, for example, past sales history per unit of time and inventory levels. An illustration of a triangular distribution is given below:\n",
    "![](https://upload.wikimedia.org/wikipedia/commons/thumb/4/45/Triangular_distribution_PMF.png/320px-Triangular_distribution_PMF.png)\n",
    "\n",
    "- *Uniform Distribution* : this is a continuous distribution bounded by known minimum and maximum values. In contrast to the triangular distribution, the likelihood of occurrence of the values between the minimum and maximum is the same. In other words, all values have an equal chance of occurring, and the distribution is simply characterized by the minimum and maximum values. Examples of variables that can be described by a uniform distribution include manufacturing costs or future sales revenues for a new product. An illustration of the uniform distribution is given below:\n",
    "![](https://upload.wikimedia.org/wikipedia/commons/thumb/9/96/Uniform_Distribution_PDF_SVG.svg/320px-Uniform_Distribution_PDF_SVG.svg.png)\n",
    "\n",
    "- *Exponential Distribution* : this is a continuous distribution used to model the time that pass between independent occurrences, provided that the rate of occurrences is known. An example of the exponential distribution is given below:\n",
    "![](https://upload.wikimedia.org/wikipedia/commons/thumb/e/ec/Exponential_pdf.svg/320px-Exponential_pdf.svg.png)\n",
    "\n",
    "- *Discrete Distribution* : for this kind of distribution, the \"user\" defines specific values that may occur and the likelihood of each of them.  An example might be the results of a lawsuit: 20% chance of positive verdict, 30% change of negative verdict, 40% chance of settlement, and 10% chance of mistrial.\n"
   ]
  },
  {
   "cell_type": "markdown",
   "metadata": {},
   "source": [
    "# 5. A real use case: estimating the financial risk of a portfolio of stocks\n",
    "We hope that by now you have a good understanding about Monte Carlo simulation. Next, we apply this method to a real use case: *financial risk estimation*.\n",
    "\n",
    "Imagine that you are an investor on the stock market. You plan to buy some stocks and you want to estimate the maximum loss you could incur after two weeks of investing. This is the quantity that the financial statistic \"Value at Risk\" (VaR) seeks to measure. [VaR](https://en.wikipedia.org/wiki/Value_at_risk) is defined as a measure of investment risk that can be used as a reasonable estimate of the maximum probable loss for a value of an investment portfolio, over a particular time period. A VaR statistic depends on three parameters: a portfolio, a time period, and a confidence level. A VaR of 1 million dollars with a 95% confidence level over two weeks, indicates the belief that the portfolio stands only a 5% chance of losing more than 1 million dollars over two weeks. VaR has seen widespread use across financial services organizations. This statistic plays a vital role in determining how much cash investors must hold to meet the credit ratings that they seek. In addition, it is also used to understand the risk characteristics of large portfolios: it is a good idea to compute the VaR before executing trades, such that it can help take informed decisions about investments. \n",
    "\n",
    "Our goal is calculating VaR of two weeks interval with 95% confidence level and the associated [VaR confidence interval](http://www.investopedia.com/ask/answers/041615/whats-difference-between-confidence-level-and-confidence-interval-value-risk-var.asp).\n",
    "\n",
    "\n",
    "## 5.1. Terminology\n",
    "In this use case, we will use some terms that might require a proper definition, given the domain. This is what we call the *Domain Knowledge*.\n",
    "\n",
    "- **Instrument**: A tradable asset, such as a bond, loan, option, or stock investment. At any particular time, an instrument is considered to have a value, which is the price for which it can be sold. In the use case of this notebook, instruments are stock investments.\n",
    "- **Portfolio**: A collection of instruments owned by a financial institution. \n",
    "- **Return**: The change in an instrument or portfolio’s value over a time period. \n",
    "- **Loss**: A negative return. \n",
    "- **Index**: An imaginary portfolio of instruments. For example, the NASDAQ Composite index includes about 3,000 stocks and similar instruments for major US and international companies. \n",
    "- **Market factor**: A value that can be used as an indicator of macro aspects of the financial climate at a particular time. For example, the value of an index, the Gross Domestic Product of the United States, or the exchange rate between the dollar and the euro. We will often refer to market factors as just factors.\n",
    "\n",
    "## 5.2. The context of our use case\n",
    "We have a list of instruments that we plan to invest in. The historial data of each instrument has been collected for you. For simplicity, assume that the returns of instruments at a given time, depend on 4 market factors only: \n",
    "\n",
    "- GSPC value\n",
    "- IXIC value \n",
    "- The return of crude oil\n",
    "- The return of treasury bonds\n",
    "\n",
    "Our goal is building a model to predict the loss after two weeks time interval with confidence level set to 95%.\n",
    "\n",
    "As a side note, it is important to realize that the approach presented in this Notebook is a simplified version of what would happen in a real Financial firm. For example, the returns of instruments at a given time often depend on more than 4 market factors only! Moreovoer, the choice of what constitute an appropriate market factor is an art!\n",
    "\n"
   ]
  },
  {
   "cell_type": "markdown",
   "metadata": {},
   "source": [
    "## 5.3. The Data\n",
    "The stock data can be downloaded (or scraped) from Yahoo! by making a series of REST calls. The data includes multiple files. Each file contains the historical information of each instrument that we want to invest in. The data is in the following format (with some samples):\n",
    "```\n",
    "Date, Open, High, Low, Close, Volume, Adj Close\n",
    "2016-01-22,66.239998,68.07,65.449997,67.860001,137400,67.860001\n",
    "2016-01-21,65.410004,66.18,64.459999,65.050003,148000,65.050003\n",
    "2016-01-20,64.279999,66.32,62.77,65.389999,141300,65.389999\n",
    "2016-01-19,67.720001,67.989998,64.720001,65.379997,178400,65.379997\n",
    "```\n",
    "\n",
    "The data of GSPC and IXIC values (our two first market factors) are also available on Yahoo! and use the very same format. \n",
    "\n",
    "The crude oil and treasure bonds data is collected from investing.com, and has a different format, as shown below (with some samples):\n",
    "```\n",
    "Date    Price   Open    High    Low     Vol.    Change %\n",
    "Jan 25, 2016    32.17   32.36   32.44   32.10   -       -0.59%\n",
    "Jan 24, 2016    32.37   32.10   32.62   31.99   -       0.54%\n",
    "Jan 22, 2016    32.19   29.84   32.35   29.53   -       9.01%\n",
    "Jan 21, 2016    29.53   28.35   30.25   27.87   694.04K 11.22%\n",
    "Jan 20, 2016    26.55   28.33   28.58   26.19   32.11K  -6.71%\n",
    "Jan 19, 2016    28.46   29.20   30.21   28.21   188.03K -5.21%\n",
    "```\n",
    "\n",
    "In our use case, the factors' data will be used jointly to build a statiscal model: as a consequence, we first need to preprocess the data to proceed.\n",
    "\n",
    "## 5.4. Data preprocessing\n",
    "In this Notebook, all data files have been downloaded for you, such that you can focus on pre-processing. Next, we will:\n",
    "\n",
    "  - Read the factor data files which are in two different formats, process and merge them together\n",
    "  - Read the stock data and pre-process it\n",
    "  - Trim all data into a specific time region\n",
    "  - Fill in the missing values\n",
    "  - Generate the data of returns in each two weeks time interval window\n",
    "  \n",
    "### Factor data pre-processing\n",
    "\n",
    "We need two functions to read and parse data from Yahoo! and Investing.com respectively. We are interested only in information about the time and the corresponding returns of a factor or an instrument: as a consequence, we will project away many columns of our RAW data, and keep only the information we are interested in.\n",
    "\n",
    "The 3000-instrument and the 4-factor history are small enough to be read and processed locally: we do not need to use the power of parallel computing to proceed. Note that this is true also for larger cases with hundreds of thousands of instruments and thousands of factors. The need for a distributed system like Spark comes in when actually **running** the Monte Carlo simulations, which can require massive amounts of computation on each instrument. "
   ]
  },
  {
   "cell_type": "markdown",
   "metadata": {},
   "source": [
    "![](https://farm2.staticflickr.com/1604/24934700445_833f0a5649_t.jpg)"
   ]
  },
  {
   "cell_type": "markdown",
   "metadata": {},
   "source": [
    "<div class='anchor' ></div>\n",
    "\n",
    "### Question 4\n",
    "#### Question 4.1\n",
    "Write a function named `readInvestingDotComHistory` to parse data from investing.com based on the format specified above (see Section 5.3). Recall that we use two factors here: one that is related to the price of crude oil, one that is related to some specific US bonds. \n",
    "\n",
    "Print the first 5 entries of the first factor (crude oil price) in the parsed data.\n",
    "\n",
    "Note that we are only interested in the date and price of stocks.\n",
    "\n",
    "HINT: You can parse a string to `datetime` object by using the function `strptime(<string>, <dtime_format>)`. In this case, the datetime format is `\"%b %d, %Y\"`. For more information, please follow this [link](https://docs.python.org/2/library/datetime.html#strftime-and-strptime-behavior)."
   ]
  },
  {
   "cell_type": "markdown",
   "metadata": {},
   "source": [
    "In the next cell, we simply copy data from our HDFS cluster (that contains everything we need for this Notebook) to the instance (a Docker container) running your Notebook. This means that you will have \"local\" data that you can process without using Spark. Note the folder location: find and verify that you have correctly downloaded the files!"
   ]
  },
  {
   "cell_type": "code",
   "execution_count": 182,
   "metadata": {
    "collapsed": false
   },
   "outputs": [],
   "source": [
    "! [ -d monte-carlo-risk ] || (echo \"Downloading prepared data from HDFS. Please wait...\" ; hdfs dfs -copyToLocal /datasets/monte-carlo-risk . ; echo \"Done!\";)"
   ]
  },
  {
   "cell_type": "code",
   "execution_count": 183,
   "metadata": {
    "collapsed": false
   },
   "outputs": [
    {
     "name": "stdout",
     "output_type": "stream",
     "text": [
      "[(datetime.datetime(2006, 1, 26, 0, 0), 66.26), (datetime.datetime(2006, 1, 27, 0, 0), 67.76), (datetime.datetime(2006, 1, 30, 0, 0), 68.35), (datetime.datetime(2006, 1, 31, 0, 0), 67.92), (datetime.datetime(2006, 2, 1, 0, 0), 66.56)]\n"
     ]
    }
   ],
   "source": [
    "from datetime import datetime\n",
    "from datetime import timedelta\n",
    "from itertools import islice\n",
    "%matplotlib inline\n",
    "import numpy as np\n",
    "import statsmodels.api as sm\n",
    "\n",
    "base_folder = \"monte-carlo-risk/\"\n",
    "\n",
    "factors_folder= base_folder + \"factors/\"\n",
    "\n",
    "# read data from local disk\n",
    "def readInvestingDotComHistory(fname):\n",
    "    def process_line(line):\n",
    "        cols = line.split('\\t')\n",
    "        date = datetime.strptime(cols[0], \"%b %d, %Y\")\n",
    "        value = float(cols[1])\n",
    "        return (date, value)\n",
    "    \n",
    "    with open(fname) as f:\n",
    "        content_w_header = f.readlines()\n",
    "        # remove the first line \n",
    "        # and reverse lines to sort the data by date, in ascending order\n",
    "        content = list(reversed(content_w_header[1:]))\n",
    "        return list(map(process_line , content))\n",
    "\n",
    "factor1_files = ['crudeoil.tsv', 'us30yeartreasurybonds.tsv']\n",
    "factor1_files = map(lambda fn: factors_folder + fn, factor1_files)\n",
    "factors1 = [readInvestingDotComHistory(f) for f in factor1_files]\n",
    "\n",
    "print(factors1[0][:5])"
   ]
  },
  {
   "cell_type": "markdown",
   "metadata": {},
   "source": [
    "Now, the data structure `factors1` is a list, containing data that pertains to two (out of a total of four) factors that influence the market, as obtained by investing.com. Each element in the list is a tuple, containing some sort of timestamp, and the value of one of the two factors discussed above. From now on, we call these elements \"**records**\" or \"**entries**\". Visually, `factors1` looks like this:\n",
    "\n",
    "| 0 (crude oil) | 1 (US bonds)|\n",
    "| --- | --- |\n",
    "| time_stamp, value | time_stamp, value |\n",
    "| ... | ... |\n",
    "| time_stamp, value | time_stamp, value |\n",
    "| ... | ... |\n"
   ]
  },
  {
   "cell_type": "markdown",
   "metadata": {},
   "source": [
    "<div class='anchor' ></div>\n",
    "#### Question 4.2\n",
    "Write a function named `readYahooHistory` to parse data from yahoo.com based on its format, as described in Section 5.3. \n",
    "\n",
    "Print the first 5 entries of the first factor (namely GSPC). Comment the time range of the second batch of data we use in our Notebook.\n",
    "\n",
    "Note that we are only interested in the date and price of stocks.\n",
    "\n",
    "NOTE: The datetime format now is in a different format than the previous one.\n",
    "\n",
    "HINT: Use a terminal (or put the bash commands inline in your Notebook) to list filenames in your local working directory to find and have a look at your local files."
   ]
  },
  {
   "cell_type": "code",
   "execution_count": 184,
   "metadata": {
    "collapsed": false
   },
   "outputs": [
    {
     "name": "stdout",
     "output_type": "stream",
     "text": [
      "[(datetime.datetime(1950, 1, 3, 0, 0), 16.66), (datetime.datetime(1950, 1, 4, 0, 0), 16.85), (datetime.datetime(1950, 1, 5, 0, 0), 16.93), (datetime.datetime(1950, 1, 6, 0, 0), 16.98), (datetime.datetime(1950, 1, 9, 0, 0), 17.08)]\n"
     ]
    }
   ],
   "source": [
    "# read data from local disk\n",
    "def readYahooHistory(fname):\n",
    "    def process_line(line):\n",
    "        cols = line.split(',')\n",
    "        date = datetime.strptime(cols[0], \"%Y-%m-%d\")\n",
    "        value = float(cols[4])\n",
    "        return (date, value)\n",
    "    \n",
    "    with open(fname) as f:\n",
    "        content_w_header = f.readlines()\n",
    "        # remove the first line \n",
    "        # and reverse lines to sort the data by date, in ascending order\n",
    "        content = list(reversed(content_w_header[1:]))\n",
    "        return list(map(process_line , content))\n",
    "    \n",
    "\n",
    "factor2_files = ['GSPC.csv', 'IXIC.csv']\n",
    "factor2_files = map(lambda fn: factors_folder + fn, factor2_files)\n",
    "\n",
    "factors2 = [readYahooHistory(f) for f in factor2_files]\n",
    "\n",
    "print(factors2[0][:5])"
   ]
  },
  {
   "cell_type": "markdown",
   "metadata": {},
   "source": [
    "<div class=\"comment\">\n",
    "PUT YOUR COMMENT HERE\n",
    "</div>"
   ]
  },
  {
   "cell_type": "markdown",
   "metadata": {},
   "source": [
    "To have an idea about the global economical situation , it is important to observe the variations of the market factors. we propose to plot the evolution of facotrs over time , and define a describe function that \n",
    "returns important informations about them."
   ]
  },
  {
   "cell_type": "code",
   "execution_count": null,
   "metadata": {
    "collapsed": true
   },
   "outputs": [],
   "source": [
    "plt.figure(1)\n",
    "\n",
    "plt.subplot(221)\n",
    "plt.plot()\n",
    "plt.title('0')\n",
    "\n",
    "plt.subplot(222)\n",
    "plt.plot(plotDistribution(factorsReturns[1]))\n",
    "plt.title('1')\n",
    "\n",
    "# symmetric log\n",
    "\n",
    "plt.subplot(223)\n",
    "plt.plot()\n",
    "plt.title('GSPC evolution')\n",
    "#plt.grid(True)\n",
    "\n",
    "# logit\n",
    "plt.subplot(224)\n",
    "plt.plot()\n",
    "plt.title('IXIC evolution')\n",
    "#plt.grid(True)"
   ]
  },
  {
   "cell_type": "markdown",
   "metadata": {},
   "source": [
    "Now, the data structure `factors2` is again list, containing data that pertains to the next two (out of a total of four) factors that influence the market, as obtained by Yahoo!. Each element in the list is a tuple, containing some sort of timestamp, and the value of one of the two factors discussed above. Visually, `factors2` looks like this:\n",
    "\n",
    "| 0 (GSPC) | 1 (IXIC)|\n",
    "| --- | --- |\n",
    "| time_stamp, value | time_stamp, value |\n",
    "| ... | ... |\n",
    "| time_stamp, value | time_stamp, value |\n",
    "| ... | ... |\n"
   ]
  },
  {
   "cell_type": "markdown",
   "metadata": {},
   "source": [
    "### Stock data pre-processing\n",
    "\n",
    "Next, we prepare the data for the instruments we consider in this Notebook (i.e., the stocks we want to invest in). "
   ]
  },
  {
   "cell_type": "markdown",
   "metadata": {},
   "source": [
    "<div class='anchor' ></div>\n",
    "\n",
    "#### Question 4.3\n",
    "In this Notebook, we assume that we want to invest on the first 35 stocks out of the total 3000 stocks present in our datasets.\n",
    "\n",
    "Load and prepare all the data for the considered instruments (the first 35 stocks) which have historical information for more than 5 years. This means that all instruments with less than 5 years of history should be removed.\n",
    "\n",
    "**[HINT]**: we suggest to open a terminal window (not on your local machine, but the Notebook terminal that you can find on the Jupyter dashboard) and visually check the contents of the directories holding our dataset, if you didn't do this before! Have a look at how stock data is organized!"
   ]
  },
  {
   "cell_type": "code",
   "execution_count": 185,
   "metadata": {
    "collapsed": false
   },
   "outputs": [
    {
     "name": "stdout",
     "output_type": "stream",
     "text": [
      "[(datetime.datetime(2000, 4, 6, 0, 0), 8.499992), (datetime.datetime(2000, 4, 7, 0, 0), 10.000004), (datetime.datetime(2000, 4, 10, 0, 0), 7.999988), (datetime.datetime(2000, 4, 11, 0, 0), 7.999988), (datetime.datetime(2000, 4, 12, 0, 0), 8.062498)]\n"
     ]
    }
   ],
   "source": [
    "from os import listdir\n",
    "from os.path import isfile, join\n",
    "\n",
    "stock_folder = base_folder + 'stocks'\n",
    "\n",
    "def process_stock_file(fname):\n",
    "    try:\n",
    "        return readYahooHistory(fname)\n",
    "    except Exception as e:\n",
    "        raise e\n",
    "        return None\n",
    "\n",
    "\n",
    "\n",
    "# select path of all stock data files in \"stock_folder\"\n",
    "files = [join(stock_folder, f) for f in listdir(stock_folder) if isfile(join(stock_folder, f))]\n",
    "\n",
    "# assume that we invest only the first 35 stocks (for faster computation)\n",
    "files = files[:35]\n",
    "\n",
    "# read each line in each file, convert it into the format: (date, value)\n",
    "rawStocks1 = [process_stock_file(f) for f in files]\n",
    "\n",
    "# select only instruments which have more than 5 years of history\n",
    "# Note: the number of business days in a year is 260\n",
    "number_of_years = 5\n",
    "rawStocks = list(filter(lambda instrument: len(instrument)>=number_of_years*260, rawStocks1))   \n",
    "# For testing, print the first 5 entry of the first stock\n",
    "print(rawStocks[0][:5])"
   ]
  },
  {
   "cell_type": "markdown",
   "metadata": {},
   "source": [
    "Here we propose to take one stock from rawStocks and plot its variations. "
   ]
  },
  {
   "cell_type": "code",
   "execution_count": 186,
   "metadata": {
    "collapsed": false,
    "scrolled": true
   },
   "outputs": [
    {
     "name": "stdout",
     "output_type": "stream",
     "text": [
      "0\n",
      "EBMT\n"
     ]
    }
   ],
   "source": [
    "# get a stock's name from the filtered list.\n",
    "idx=0\n",
    "for rawStock in rawStocks1:\n",
    "    if rawStock in rawStocks:\n",
    "      print(rawStocks.index(rawStock))  \n",
    "      break\n",
    "    idx+=1\n",
    "file_name=files[idx].split('/')[2]\n",
    "stock_name=file_name[:-4]\n",
    "print(stock_name)"
   ]
  },
  {
   "cell_type": "code",
   "execution_count": 214,
   "metadata": {
    "collapsed": false
   },
   "outputs": [
    {
     "data": {
      "image/png": "[encoded data removed]",
      "text/plain": [
       "<matplotlib.figure.Figure at 0x7f6bd4c4cf28>"
      ]
     },
     "metadata": {},
     "output_type": "display_data"
    }
   ],
   "source": [
    "%matplotlib inline\n",
    "import matplotlib as mpl\n",
    "import matplotlib.pyplot as plt\n",
    "#Here we plot the closing prices corresponding to t)he stock EBMT of Eagle Bancorp Montana Inc.\n",
    "\n",
    "dates=[rawStocks[0][j][0]  for j in range(len(rawStocks[0]))]\n",
    "prices=[rawStocks[0][j][1] for j in range(len(rawStocks[0]))]\n",
    "\n",
    "fig = plt.figure()\n",
    "plt.plot(dates,prices)\n",
    "plt.ylabel('Price (USD)')\n",
    "plt.xlabel('Date')\n",
    "plt.grid()\n",
    "fig.suptitle(stock_name,\"Daily closing prices\")\n",
    "plt.show()\n",
    "#_ax.set_title(stock_name + \" daily closing prices\")\n",
    "#_t = _ax.set_ylabel('Price (USD)')\n",
    "plt.show()"
   ]
  },
  {
   "cell_type": "markdown",
   "metadata": {},
   "source": [
    "### Time alignment for our data\n",
    "Different types of instruments may trade on different days, or the data may have missing values for other reasons, so it is important to make sure that our different histories align. First, we need to trim all of our time series to the same region in time. Then, we need to fill in missing values. To deal with time series that have missing values at the start and end dates in the time region, we simply fill in those dates with nearby values in the time region."
   ]
  },
  {
   "cell_type": "markdown",
   "metadata": {},
   "source": [
    "<div class='anchor' ></div>\n",
    "\n",
    "#### Question 4.4\n",
    "Assume that we only focus on the data from 23/01/2009 to 23/01/2014. Write a function named `trimToRegion` to select only the records in that time interval. \n",
    "\n",
    "Requirements: after processing, each instrument $i$ has a list of records: $[r_0, r_2,...,r_{m_i}]$ such that $r_0$ and $r_{m_i}$ are assigned, respectively, the first and the last values corresponding to the extremes of the given time interval. For example: $r_0$ should contain the value at date 23/01/2009."
   ]
  },
  {
   "cell_type": "code",
   "execution_count": 188,
   "metadata": {
    "collapsed": false
   },
   "outputs": [
    {
     "name": "stdout",
     "output_type": "stream",
     "text": [
      "[(datetime.datetime(2009, 1, 23, 0, 0), 22.999994), (datetime.datetime(2009, 1, 26, 0, 0), 22.999994), (datetime.datetime(2009, 1, 27, 0, 0), 22.999994), (datetime.datetime(2009, 1, 28, 0, 0), 22.999994), (datetime.datetime(2009, 1, 29, 0, 0), 22.999994)]\n",
      "[(datetime.datetime(2014, 1, 16, 0, 0), 10.98), (datetime.datetime(2014, 1, 17, 0, 0), 10.98), (datetime.datetime(2014, 1, 21, 0, 0), 10.98), (datetime.datetime(2014, 1, 22, 0, 0), 10.98), (datetime.datetime(2014, 1, 23, 0, 0), 11.0)]\n"
     ]
    }
   ],
   "source": [
    "# note that the data of crude oild and treasury is only available starting from 26/01/2006 \n",
    "start = datetime(year=2009, month=1, day=23)\n",
    "end = datetime(year=2014, month=1, day=23)\n",
    "\n",
    "def trimToRegion(history, start, end):\n",
    "    def isInTimeRegion(entry):\n",
    "        (date, value) = entry\n",
    "        return date >= start and date <= end\n",
    "\n",
    "    # only select entries which are in the time region\n",
    "    trimmed = list(filter(isInTimeRegion, history))\n",
    "    \n",
    "    # if the data has incorrect time boundaries, add time boundaries\n",
    "    if trimmed[0][0] != start:\n",
    "        trimmed.insert(0, (start, trimmed[0][1]))\n",
    "    if trimmed[-1][0] != end:\n",
    "        trimmed.append((end, trimmed[-1][1]))\n",
    "    return trimmed\n",
    "    \n",
    "# test our function\n",
    "trimmedStock0  = trimToRegion(rawStocks[0], start, end)\n",
    "# the first 5 records of stock 0\n",
    "print(trimmedStock0[:5])\n",
    "# the last 5 records of stock 0\n",
    "print(trimmedStock0[-5:])\n",
    "\n",
    "assert(trimmedStock0[0][0] == start), \"the first record must contain the price in the first day of time interval\"\n",
    "assert(trimmedStock0[-1][0] == end), \"the last record must contain the price in the last day of time interval\""
   ]
  },
  {
   "cell_type": "markdown",
   "metadata": {},
   "source": [
    "### Dealing with missing values\n",
    "We expect that we have the price of instruments and factors **in each business day**. Unfortunately, there are many missing values in our data: this means that we miss data for some days, e.g. we have data for the monday of a certain week, but not for the subsequent tuesday. So, we need a function that helps filling these missing values.\n",
    "\n",
    "Next, we provide to you the function to fill missing value: read it carefully!"
   ]
  },
  {
   "cell_type": "code",
   "execution_count": 189,
   "metadata": {
    "collapsed": true
   },
   "outputs": [],
   "source": [
    "def fillInHistory(history, start, end):\n",
    "    curr = history\n",
    "    filled = []\n",
    "    idx = 0\n",
    "    curDate = start\n",
    "    numEntries = len(history)\n",
    "    while curDate < end:\n",
    "        \n",
    "        # if the next entry is in the same day\n",
    "        # move to the next entry\n",
    "        while idx + 1 < numEntries and curr[idx + 1][0] <= curDate:\n",
    "            idx +=1\n",
    "\n",
    "        # only add the last value of instrument in a single day\n",
    "        # check curDate is weekday or not\n",
    "        # 0: Monday -> 5: Saturday, 6: Sunday\n",
    "        if curDate.weekday() < 5:\n",
    "            \n",
    "            filled.append((curDate, curr[idx][1]))\n",
    "            # move to the next business day\n",
    "            curDate += timedelta(days=1)\n",
    "        \n",
    "        # skip the weekends\n",
    "        if curDate.weekday() >= 5:\n",
    "            # if curDate is Sat, skip 2 days, otherwise, skip 1 day\n",
    "            curDate += timedelta(days=(7-curDate.weekday()))\n",
    "\n",
    "    return filled"
   ]
  },
  {
   "cell_type": "markdown",
   "metadata": {},
   "source": [
    "<div class='anchor' ></div>\n",
    "\n",
    "#### Question 4.5\n",
    "Trim data of stocks and factors into the given time interval."
   ]
  },
  {
   "cell_type": "code",
   "execution_count": 190,
   "metadata": {
    "collapsed": false
   },
   "outputs": [
    {
     "name": "stdout",
     "output_type": "stream",
     "text": [
      "the first 5 records of stock 0: [(datetime.datetime(2009, 1, 23, 0, 0), 22.999994), (datetime.datetime(2009, 1, 26, 0, 0), 22.999994), (datetime.datetime(2009, 1, 27, 0, 0), 22.999994), (datetime.datetime(2009, 1, 28, 0, 0), 22.999994), (datetime.datetime(2009, 1, 29, 0, 0), 22.999994)] \n",
      "\n",
      "the last 5 records of stock 0: [(datetime.datetime(2014, 1, 16, 0, 0), 10.98), (datetime.datetime(2014, 1, 17, 0, 0), 10.98), (datetime.datetime(2014, 1, 20, 0, 0), 10.98), (datetime.datetime(2014, 1, 21, 0, 0), 10.98), (datetime.datetime(2014, 1, 22, 0, 0), 10.98)] \n",
      "\n",
      "the first 5 records of factor 0: [(datetime.datetime(2009, 1, 23, 0, 0), 46.47), (datetime.datetime(2009, 1, 26, 0, 0), 45.73), (datetime.datetime(2009, 1, 27, 0, 0), 41.58), (datetime.datetime(2009, 1, 28, 0, 0), 42.16), (datetime.datetime(2009, 1, 29, 0, 0), 41.44)] \n",
      "\n",
      "the last 5 records of factor 0: [(datetime.datetime(2014, 1, 16, 0, 0), 93.96), (datetime.datetime(2014, 1, 17, 0, 0), 94.37), (datetime.datetime(2014, 1, 20, 0, 0), 93.93), (datetime.datetime(2014, 1, 21, 0, 0), 94.99), (datetime.datetime(2014, 1, 22, 0, 0), 96.73)] \n",
      "\n"
     ]
    }
   ],
   "source": [
    "#print rawStocks[0]\n",
    "\n",
    "# trim into a specific time region\n",
    "# and fill up the missing values\n",
    "stocks = list(map(lambda stock: \\\n",
    "            fillInHistory(\n",
    "                trimToRegion(stock, start, end), \n",
    "            start, end), \n",
    "        rawStocks))\n",
    "\n",
    "\n",
    "\n",
    "# merge two factors, trim each factor into a time region\n",
    "# and fill up the missing values\n",
    "allfactors = factors1 + factors2\n",
    "factors = list(map(lambda factor:\n",
    "            fillInHistory(\n",
    "                trimToRegion(factor, start, end), \n",
    "            start, end), \n",
    "            allfactors\n",
    "            ))\n",
    "            \n",
    "# test our code\n",
    "print(\"the first 5 records of stock 0:\", stocks[0][:5], \"\\n\")\n",
    "print(\"the last 5 records of stock 0:\", stocks[0][-5:], \"\\n\")\n",
    "print(\"the first 5 records of factor 0:\", factors[0][:5], \"\\n\")\n",
    "print(\"the last 5 records of factor 0:\", factors[0][-5:], \"\\n\")"
   ]
  },
  {
   "cell_type": "markdown",
   "metadata": {},
   "source": [
    "Recall that Value at Risk (VaR) deals with **losses over a particular time horizon**. We are not concerned with the absolute prices of instruments, but how those prices **change over** a given period of time. In our project, we will set that length to two weeks: we use the sliding window method to transform time series of prices into an overlapping sequence of price change over two-week intervals.\n",
    "\n",
    "The figure below illustrate this process. The returns of market factors after each two-week intervals is calculated in the very same way.\n",
    "\n",
    "![](https://dl.dropboxusercontent.com/s/r9ucsicichb6gjh/two-week-time-interval.svg)"
   ]
  },
  {
   "cell_type": "code",
   "execution_count": 191,
   "metadata": {
    "collapsed": true
   },
   "outputs": [],
   "source": [
    "def buildWindow(seq, k=2):\n",
    "    \"Returns a sliding window (of width k) over data from iterable data structures\"\n",
    "    \"   s -> (s0,s1,...s[k-1]), (s1,s2,...,sk), ...                   \"\n",
    "    it = iter(seq)\n",
    "    result = tuple(islice(it, k))\n",
    "    if len(result) == k:\n",
    "        yield result  \n",
    "    for elem in it:\n",
    "        result = result[1:] + (elem,)\n",
    "        yield result"
   ]
  },
  {
   "cell_type": "code",
   "execution_count": 192,
   "metadata": {
    "collapsed": false
   },
   "outputs": [
    {
     "name": "stdout",
     "output_type": "stream",
     "text": [
      "25\n"
     ]
    }
   ],
   "source": [
    "print(len(rawStocks))"
   ]
  },
  {
   "cell_type": "markdown",
   "metadata": {},
   "source": [
    "<div class='anchor' ></div>\n",
    "\n",
    "#### Question 4.6\n",
    "Compute the returns of the stocks after each two week time window."
   ]
  },
  {
   "cell_type": "code",
   "execution_count": 193,
   "metadata": {
    "collapsed": false
   },
   "outputs": [
    {
     "name": "stdout",
     "output_type": "stream",
     "text": [
      "the first 5 returns of stock 0: [0.0, 0.0, 0.0, 0.0, 0.0]\n",
      "the last 5 returns of stock 0: [0.07000000000000028, 0.07000000000000028, 0.030000000000001137, -0.019999999999999574, 0.009999999999999787]\n"
     ]
    }
   ],
   "source": [
    "def calculateReturn(window):\n",
    "    # return the change of value after two weeks\n",
    "    return window[-1][1] - window[0][1]\n",
    "def twoWeekReturns(history):\n",
    "    # we use 10 instead of 14 to define the window\n",
    "    # because financial data does not include weekends\n",
    "    return [calculateReturn(entry) for entry in buildWindow(history, 10)]\n",
    "stocksReturns = list(map(twoWeekReturns, stocks))\n",
    "factorsReturns = list(map(twoWeekReturns, factors))\n",
    "\n",
    "# test our functions\n",
    "#print(factorsReturns[1][:5])\n",
    "print(\"the first 5 returns of stock 0:\", stocksReturns[0][:5])\n",
    "print(\"the last 5 returns of stock 0:\", stocksReturns[0][-5:])"
   ]
  },
  {
   "cell_type": "markdown",
   "metadata": {},
   "source": [
    "We can have a look at the histogram and the evolution of returns over time of stock 0 ."
   ]
  },
  {
   "cell_type": "code",
   "execution_count": 194,
   "metadata": {
    "collapsed": false
   },
   "outputs": [
    {
     "data": {
      "text/plain": [
       "<matplotlib.text.Text at 0x7f6bc9ad4550>"
      ]
     },
     "execution_count": 194,
     "metadata": {},
     "output_type": "execute_result"
    },
    {
     "data": {
      "image/png": "[encoded data removed]",
      "text/plain": [
       "<matplotlib.figure.Figure at 0x7f6bc9a42d30>"
      ]
     },
     "metadata": {},
     "output_type": "display_data"
    }
   ],
   "source": [
    "#ploting the histogram:\n",
    "fig = plt.figure()\n",
    "bins=np.arange(-0.15,0.10,0.0025)\n",
    "plt.hist(stocksReturns[2], bins, normed=1, histtype='bar', rwidth=0.8)\n",
    "plt.xlabel('factors returns')\n",
    "plt.ylabel('frequency')\n"
   ]
  },
  {
   "cell_type": "code",
   "execution_count": 195,
   "metadata": {
    "collapsed": false
   },
   "outputs": [
    {
     "data": {
      "image/png": "[encoded data removed]",
      "text/plain": [
       "<matplotlib.figure.Figure at 0x7f6bc9ed6128>"
      ]
     },
     "metadata": {},
     "output_type": "display_data"
    }
   ],
   "source": [
    "#ploting evolution in time \n",
    "dates=[stocks[0][j][0]  for j in range(len(stocks[0]))]\n",
    "plt.plot(dates[:len(stocksReturns[0])],stocksReturns[0])\n",
    "plt.ylabel('return value ')\n",
    "plt.xlabel('Date')\n",
    "#plt.xticks([2009,2010,2011,2012,2013])\n",
    "plt.grid()\n",
    "fig.suptitle(\"evolution of returns in time\")\n",
    "plt.show()\n",
    "#_ax.set_title(stock_name + \" daily closing prices\")\n",
    "#_t = _ax.set_ylabel('Price (USD)')\n",
    "plt.show()"
   ]
  },
  {
   "cell_type": "markdown",
   "metadata": {},
   "source": [
    "Alright! Now we have data that is properly aligned to start the training process: stocks' returns and factors' returns, per time windows of two weeks. Next, we will apply the MCS method."
   ]
  },
  {
   "cell_type": "markdown",
   "metadata": {},
   "source": [
    "## 5.5. Summary guidelines to apply the MCS method on the data we prepared\n",
    "Next, we overview the steps that you have to follow to build a model of your data, and then use Monte Carlo simulations to produce output distributions:\n",
    "\n",
    "- **Step 1**: Defining the relationship between the market factors and the instrument's returns. This relationship takes the form of a model fitted to historical data.\n",
    "- **Step 2**: Defining the distributions for the market conditions (particularly, the returns of factors) that are straightforward to sample from. These distributions are fitted to historical data. \n",
    "- **Step 3**: Generate the data for each trial of a Monte Carlo run: this amount to generating the random values for market conditions along with these distributions.\n",
    "- **Step 4**: For each trial, from the above values of market conditions, and using the relationship built in step 1, we calculate the return for each instrument and the total return. We use the returns to define an empirical distribution over losses. This means that, if we run 100 trials and want to estimate the 5% VaR, we would choose it as the loss from the trial with the fifth greatest loss.\n",
    "- **Step 5**: Evaluating the result"
   ]
  },
  {
   "cell_type": "markdown",
   "metadata": {},
   "source": [
    "## 5.6. Applying MCS\n",
    "\n",
    "### Step 1: Defining relationship between market factors and instrument's returns\n",
    "\n",
    "In our simulation, we will use a simple linear model. By our definition of return , a factor return is a **change** in the value of a market factor **over a particular time period**, e.g. if the value of the S&P 500 moves from 2000 to 2100 over a time interval, its return would be 100.\n",
    "\n",
    "A vector that contains the return of 4 market factors is called a *market factor vector*. Generally, instead of using this vector as features, we derive a set of features from simple transformation of it. In particular, a vector of 4 values is tranformed into a vector of length $m$ by function $F$. In the simplest case $F(v) = v$.\n",
    "\n",
    "Denote $v_t$ the market factor vector, and $f_t$ the transformed features of $v_t$ at time $t$.\n",
    "\n",
    "$f_{tj}$ is the value of feature $j$ in $f_t$.\n",
    "\n",
    "Denote $r_{it}$ the return of instrument $i$ at time $t$ and $c_i$ the [intercept term](http://blog.minitab.com/blog/adventures-in-statistics/regression-analysis-how-to-interpret-the-constant-y-intercept) of instrument $i$.\n",
    "\n",
    "We will use a simple linear function to calculate $r_{it}$ from $f_t$:\n",
    "\n",
    "$$\n",
    "r_{it} = c_i + \\sum_{j=1}^{m}{w_{ij}*f_{tj}}\n",
    "$$\n",
    "\n",
    "where $w_{ij}$ is the weight of feature $j$ for instrument $i$.\n",
    "\n",
    "All that above means that given a market factor vector, we have to \"featurize it\" and then use the result as a surrogate for calculating the return of the instruments, using the above linear function.\n",
    "\n",
    "There are two questions that we should consider: **how to featurize a factor vector ?** and **how to pick values for $w_{ij}$?**\n",
    "\n",
    "**How to featurize a factor vector ?**\n",
    "In fact, the instruments' returns may be non-linear functions of the factor returns. So, we should not use factor returns as features in the the above linear function. Instead, we tranform them into a set of features with different size. In this Notebook, we can include some additional features in our model that we derive from non-linear transformations of the factor returns. We will try adding two more features for each factor return: its square and its square root values. So, we can still assume that our model is a linear model in the sense that the response variable is a linear function of the new features. *Note that the particular feature transformation described here is meant to be an illustrative example of some of the options that are available: it shouldn't be considered as the state of the art in predictive financial modeling!!*.\n",
    "\n",
    "**How to pick values for $w_{ij}$ ?**\n",
    "\n",
    "For all the market factor vectors in our historical data, we tranform them to feature vectors. Now, we have feature vectors in many two-week intervals and the corresponding instrument's returns in these interval. We can use Odinary Least Square (OLS) regression model to estimate the weights for each instrument such that our linear function can fit to the data. The parameters for OLS function are:\n",
    "\n",
    "- `x`: The collection of columns where **each column** is the value of **a feature** in many two-week interval\n",
    "- `y`: The return of an instrument in the corresponding time interval of x."
   ]
  },
  {
   "cell_type": "markdown",
   "metadata": {},
   "source": [
    "The figure below shows the basic idea of the process to build a statistial model for predicting the returns of stock X.\n",
    "\n",
    "![](https://dl.dropboxusercontent.com/s/kbjtwmnr4w31uev/process-build-model3.svg)\n"
   ]
  },
  {
   "cell_type": "markdown",
   "metadata": {},
   "source": [
    "![](https://farm2.staticflickr.com/1604/24934700445_833f0a5649_t.jpg)"
   ]
  },
  {
   "cell_type": "markdown",
   "metadata": {},
   "source": [
    "<div class='anchor' ></div>\n",
    "\n",
    "### Question 5\n",
    "#### Question 5.1\n",
    "\n",
    "Currently, our data is in form of:\n",
    "\n",
    "$$\n",
    "factorsReturns=\n",
    "\\begin{bmatrix}\n",
    " r_{00} & r_{01} & r_{02} & ... & r_{0k} \\\\\n",
    " r_{10} & r_{11} & r_{12} & ... & r_{1k} \\\\\n",
    " ... & ... & ... & ... & ... \\\\\n",
    " r_{n0} & r_{n1} & r_{n2} & ... & r_{nk}\\\\\n",
    "\\end{bmatrix}\n",
    "$$\n",
    "\n",
    "\n",
    "$$\n",
    "stocksReturns=\n",
    "\\begin{bmatrix}\n",
    " s_{00} & s_{01} & s_{02} & ... & s_{0k} \\\\\n",
    " s_{10} & s_{11} & s_{12} & ... & s_{1k} \\\\\n",
    " ... & ... & ... & ... & ... \\\\\n",
    " s_{n0} & s_{n1} & s_{n2} & ... & s_{nk}\\\\\n",
    "\\end{bmatrix}\n",
    "$$\n",
    "\n",
    "Where, $r_{ij}$ is the return of factor $i^{th}$ in time window $j^{th}$, $k$ is the number of time windows, and $n$ is the number of factors. A similar definition goes for $s_{ij}$.\n",
    "\n",
    "In order to use OLS, the parameter must be in form of:\n",
    "\n",
    "$$\n",
    "x=factorsReturns^T =\n",
    "\\begin{bmatrix}\n",
    " r_{00} & r_{10} & ... & r_{n0} \\\\\n",
    " r_{01} & r_{11} & ... & r_{n1} \\\\\n",
    " r_{02} & r_{12} & ... & r_{n2}\\\\\n",
    " ... & ... & ... & ... \\\\\n",
    " r_{0k} & r_{1k} & ... & r_{nk}\\\\\n",
    "\\end{bmatrix}\n",
    "$$\n",
    "\n",
    "\n",
    "Whereas, $y$ can be any row in `stocksReturns`.\n",
    "\n",
    "So, we need a function to transpose a matrix. Write a function named `transpose` to do just that."
   ]
  },
  {
   "cell_type": "code",
   "execution_count": 196,
   "metadata": {
    "collapsed": true
   },
   "outputs": [],
   "source": [
    "def transpose(matrix):\n",
    "    m = np.matrix(matrix)\n",
    "    return np.transpose(m).tolist()\n",
    "    \n",
    "# test function\n",
    "assert (transpose([[1,2,3], [4,5,6], [7,8,9]]) == [[1, 4, 7], [2, 5, 8], [3, 6, 9]]), \"Function transpose runs incorrectly\""
   ]
  },
  {
   "cell_type": "markdown",
   "metadata": {},
   "source": [
    "<div class='anchor' ></div>\n",
    "\n",
    "#### Question 5.2\n",
    "Write a function named `featurize` that takes a list factor's returns $[x_1, x_2,...,x_k]$ and transform it into a new list of features $[u_1,u_2,..,u_k, v_1, v_2,..,v_k, x_1,x_2,...,x_k]$.\n",
    "\n",
    "Where \n",
    "\n",
    "$u_i$ = $\\left\\{\n",
    "\t\\begin{array}{ll}\n",
    "\t\tx_i^2 & \\mbox{if } x_i \\geq 0 \\\\\n",
    "\t\t-x_i^2 & \\mbox{if } x_i < 0\n",
    "\t\\end{array}\n",
    "\\right.\n",
    "$\n",
    "\n",
    "and\n",
    "\n",
    "$v_i$ = $\\left\\{\n",
    "\t\\begin{array}{ll}\n",
    "\t\t\\sqrt{x_i} & \\mbox{if } x_i \\geq 0 \\\\\n",
    "\t\t-\\sqrt{x_i} & \\mbox{if } x_i < 0\n",
    "\t\\end{array}\n",
    "\\right.\n",
    "$"
   ]
  },
  {
   "cell_type": "code",
   "execution_count": 197,
   "metadata": {
    "collapsed": false
   },
   "outputs": [],
   "source": [
    "def featurize(factorReturns):\n",
    "    squaredReturns = [(x ** 2) if x > 0 else -(x ** 2) for x in factorReturns]\n",
    "    squareRootedReturns = [np.sqrt(x) if x >= 0 else -np.sqrt(-x) for x in factorReturns]\n",
    "    # concat new features\n",
    "    return squaredReturns + squareRootedReturns + factorReturns\n",
    "\n",
    "# test our function\n",
    "assert (featurize([4, -9, 25]) == [16, -81, 625, 2, -3, 5, 4, -9, 25]), \"Function runs incorrectly\""
   ]
  },
  {
   "cell_type": "markdown",
   "metadata": {},
   "source": [
    "<div class='anchor' ></div>\n",
    "\n",
    "#### Question 5.3\n",
    "Using OLS, estimate the weights for each feature on each stock. What is the shape of `weights` (size of each dimension) ? Explain it."
   ]
  },
  {
   "cell_type": "code",
   "execution_count": 216,
   "metadata": {
    "collapsed": false
   },
   "outputs": [
    {
     "name": "stdout",
     "output_type": "stream",
     "text": [
      "shape of the weights:  25x13\n",
      "weights: [array([ -2.01260717e-02,  -9.34594331e-04,   2.79964946e+00,\n",
      "         2.22138943e-04,  -5.51345938e-05,  -2.49808990e-01,\n",
      "         1.40434534e+00,  -2.22685753e-02,  -5.89784238e-02,\n",
      "         7.65465189e-02,  -2.68833305e+00,  -6.20633983e-03,\n",
      "         1.06396735e-02]), array([ -4.89143853e-02,  -1.13046416e-03,   1.14692522e+00,\n",
      "        -1.67179970e-05,   6.90988458e-06,   2.24600516e-02,\n",
      "         2.73394474e-01,   1.86203768e-02,  -9.94854168e-03,\n",
      "         9.95218902e-03,  -7.26481976e-01,   2.23624788e-03,\n",
      "         2.30068591e-03]), array([  2.06578219e-02,   1.76008302e-03,   1.04757832e+00,\n",
      "        -9.21042332e-07,   2.22069579e-06,  -9.50770429e-04,\n",
      "         2.15329132e-01,  -4.64951727e-03,   1.31041045e-02,\n",
      "        -9.06447668e-03,  -7.32717333e-01,  -7.92423049e-04,\n",
      "        -1.81786009e-04]), array([ -1.74971872e-01,  -3.12077643e-02,  -3.23002727e+00,\n",
      "        -5.39363209e-05,   5.60559410e-05,  -5.14792045e-01,\n",
      "        -1.38957733e-01,  -4.23463423e-02,   1.51525079e-02,\n",
      "         5.89063910e-01,  -1.00745695e-01,  -4.56387563e-02,\n",
      "         5.23531312e-02]), array([  2.59899540e-04,   6.40235312e-04,   5.44364936e-02,\n",
      "        -5.38167068e-06,   1.21488449e-06,   6.43585828e-03,\n",
      "        -1.55110924e-02,   3.15336627e-06,   2.11512783e-03,\n",
      "        -6.50600390e-03,   2.42344947e-02,   6.40267054e-04,\n",
      "        -4.13279578e-04]), array([  2.76377612e-02,  -2.20006989e-03,   4.74492847e+00,\n",
      "         3.75706971e-05,  -7.92866695e-06,   4.48094300e-03,\n",
      "         9.24252107e-01,  -3.54288059e-02,   1.93573476e-02,\n",
      "         9.68956685e-03,  -2.97506075e+00,   4.52858644e-03,\n",
      "         3.97347188e-03]), array([  3.35750275e-02,   9.20113846e-03,  -1.27803691e+00,\n",
      "        -1.25539031e-05,   2.00005259e-05,   2.16147510e-01,\n",
      "        -1.09712971e+00,  -5.23551040e-02,   5.43035242e-02,\n",
      "        -1.31108613e-01,   3.29861849e+00,   2.88593419e-02,\n",
      "        -1.06348752e-02]), array([  6.39637507e-02,  -9.17540409e-04,   2.81700700e+00,\n",
      "        -5.66253416e-06,  -7.66991983e-06,  -8.44227608e-02,\n",
      "        -5.01500987e-02,  -9.34556202e-03,  -1.69904348e-02,\n",
      "         3.08751659e-02,  -1.03611755e+00,   9.47203239e-04,\n",
      "         6.15291879e-03]), array([ -2.78418598e-03,  -2.98675986e-04,   3.42773835e-01,\n",
      "         4.67754163e-06,   4.63166589e-06,   4.08184392e-02,\n",
      "         1.77356264e-01,  -2.05123008e-02,   2.56300083e-02,\n",
      "        -1.25724231e-02,  -1.12399317e-01,  -2.86009499e-03,\n",
      "         1.22656071e-03]), array([ -6.42825490e-02,  -2.87215158e-03,   5.60299805e+00,\n",
      "        -7.90984824e-05,   1.49529285e-05,   5.05487668e-02,\n",
      "         2.90443232e-01,  -6.27949714e-02,   1.00630683e-02,\n",
      "         3.74810136e-03,  -2.09678140e+00,   1.19343103e-02,\n",
      "         3.33263368e-03]), array([  1.74368074e-01,   2.51524430e-03,   2.23996795e-01,\n",
      "         2.78340164e-04,  -5.79602228e-05,   7.61925969e-01,\n",
      "        -2.39491294e+00,  -1.71708826e-01,   1.00813007e-01,\n",
      "        -3.47771513e-01,   4.32386959e+00,   1.93671257e-02,\n",
      "         1.09652389e-02]), array([ -4.57767872e-03,   1.71194601e-04,   2.61121853e+00,\n",
      "        -7.38001783e-05,   9.80912363e-06,   6.02983250e-03,\n",
      "         3.19085459e-01,  -1.97111458e-02,   2.00980733e-03,\n",
      "        -1.55833598e-02,  -1.13343033e+00,   6.21137510e-03,\n",
      "         9.65241112e-04]), array([  3.16559248e-03,   1.03545539e-03,   7.58990944e-01,\n",
      "        -2.01706466e-05,   6.07740326e-06,   7.91314027e-02,\n",
      "         4.46967824e-01,   4.99090378e-03,   2.86524848e-03,\n",
      "        -4.03566348e-02,  -1.03820877e+00,   3.33009787e-04,\n",
      "        -2.10617572e-04]), array([  5.97765318e-02,   4.35969067e-03,   5.68301352e+00,\n",
      "        -2.27935564e-04,   5.91170399e-05,   2.17490420e-01,\n",
      "         1.15863896e+00,  -6.35468292e-02,   6.09618052e-02,\n",
      "        -1.24600640e-01,  -3.25229610e+00,   2.58882686e-02,\n",
      "        -7.48029481e-03]), array([ -1.02261271e-01,  -1.25814634e-02,   6.31710687e-01,\n",
      "         6.54714045e-05,  -1.17516472e-06,  -2.89345272e-01,\n",
      "         7.59335998e-01,   7.39533793e-02,  -8.54934712e-03,\n",
      "         1.93270362e-01,  -1.04450013e+00,  -2.94334563e-02,\n",
      "         1.41275071e-02]), array([ -9.67422138e-03,  -1.35011665e-04,  -3.68403123e-01,\n",
      "        -2.95765706e-05,  -3.01547567e-06,   3.59993235e-03,\n",
      "        -4.21364267e-01,  -3.84397785e-02,  -6.28232182e-03,\n",
      "        -5.40684832e-03,   1.26271129e+00,   6.17092546e-03,\n",
      "         2.41081305e-03]), array([ -7.73743925e-02,   8.74696932e-03,   3.21007604e+00,\n",
      "         1.86173392e-04,  -8.06671209e-05,   2.06932007e-01,\n",
      "        -8.37108816e-02,   3.76515294e-02,  -9.59526399e-02,\n",
      "        -8.57504397e-02,  -3.44731087e+00,   1.35113059e-02,\n",
      "         1.34316176e-02]), array([  4.24766912e-02,  -2.21856193e-03,   7.03948377e-01,\n",
      "         7.89289036e-05,  -6.66125729e-06,  -7.67480723e-02,\n",
      "         3.79212000e-01,   4.69750196e-02,  -2.76537745e-02,\n",
      "         6.70569584e-02,  -9.02739877e-01,  -1.41642809e-02,\n",
      "         8.79973610e-03]), array([  1.20232436e-03,   2.01982951e-02,   3.94951353e+01,\n",
      "        -4.51904494e-04,  -2.33284926e-05,  -2.72858046e-01,\n",
      "         9.08105368e+00,   1.08866647e-01,  -1.16839991e-01,\n",
      "        -4.19101180e-02,  -3.48710607e+01,   7.32086442e-03,\n",
      "         5.02495388e-02]), array([ -1.69197823e-02,   9.96008686e-03,  -1.13906641e+00,\n",
      "        -1.26879020e-04,   2.70087671e-05,   1.49678369e-01,\n",
      "        -5.43851588e-01,   7.70508855e-03,   6.36102497e-02,\n",
      "        -1.42286294e-01,   1.22232550e+00,   4.89270295e-03,\n",
      "        -8.19403799e-03]), array([ -9.74214761e-03,   8.42618271e-04,  -9.90100226e-01,\n",
      "         8.73449817e-05,  -1.90252232e-05,   2.03816499e-02,\n",
      "        -2.47604985e-01,   9.08319040e-03,  -1.69767528e-02,\n",
      "        -2.38929333e-02,   7.34027726e-01,  -3.72655086e-03,\n",
      "         4.06109872e-03]), array([ -1.58777938e-02,   3.50781983e-04,   1.75634537e-01,\n",
      "        -2.49867936e-05,   2.73071111e-06,   2.45078160e-02,\n",
      "        -1.07076809e-01,  -3.71408751e-03,   3.45900162e-03,\n",
      "        -1.40083106e-02,   1.59891063e-01,   2.73827004e-03,\n",
      "        -5.17249285e-04]), array([  3.63900648e-02,   8.16563733e-04,  -7.68373243e-01,\n",
      "        -3.76810836e-05,   1.02816183e-05,   5.15526172e-02,\n",
      "        -9.90344417e-02,  -2.16344786e-02,   1.42951895e-02,\n",
      "        -2.87625804e-02,   2.66281497e-01,   7.15431299e-03,\n",
      "        -3.02680984e-03]), array([ -3.09949193e-02,  -1.00008655e-03,   1.12877104e+00,\n",
      "         3.30938478e-05,  -1.11093524e-05,  -1.66770006e-02,\n",
      "         4.23143671e-01,   1.09732846e-02,  -8.00517555e-03,\n",
      "         1.54056035e-02,  -1.21327821e+00,   1.80232428e-03,\n",
      "         3.03392714e-03]), array([  1.37481360e-01,   4.42026223e-03,   8.33561857e-01,\n",
      "        -5.33794975e-04,   9.80898215e-05,  -7.24315756e-02,\n",
      "        -4.65416247e-02,  -5.36683850e-02,   4.12411314e-02,\n",
      "         2.66852777e-02,   6.91795920e-01,   6.40434729e-02,\n",
      "        -1.55793194e-02])]\n"
     ]
    }
   ],
   "source": [
    "def estimateParams(y, x):\n",
    "    return sm.OLS(y, x).fit().params\n",
    "\n",
    "# transpose factorsReturns\n",
    "factorMat = transpose(factorsReturns)\n",
    "\n",
    "# featurize each row of factorMat\n",
    "factorFeatures = list(map(featurize, factorMat))\n",
    "\n",
    "# OLS require parameter is a numpy array\n",
    "factor_columns = np.array(factorFeatures)\n",
    "\n",
    "#add a constant - the intercept term for each instrument i.\n",
    "factor_columns = sm.add_constant(factor_columns, prepend=True)\n",
    "\n",
    "# estimate weights\n",
    "weights = [estimateParams(stocksReturn, factor_columns) for stocksReturn in stocksReturns]\n",
    "\n",
    "print(\"shape of the weights:  \"+str(len(weights))+\"x\"+str((len(weights[0]))))\n",
    "\n",
    "print(\"weights:\", weights)"
   ]
  },
  {
   "cell_type": "markdown",
   "metadata": {},
   "source": [
    "<div class=\"answer\">\n",
    "\n",
    "In fact from the formula defined in step one can we can see that the shape of the weights should be : length_of_instruments x length_of_factor. length_of_instruments is 25  which is the number of stocks left after we filtered the data to have more than 5 years of records. and the length_of_factor was 4 , after featurizing it is  3*4=12 , plus the intercept term we prepended. \n",
    "\n",
    "</div>"
   ]
  },
  {
   "cell_type": "markdown",
   "metadata": {},
   "source": [
    "### Step 2: Defining the distributions for the market conditions\n",
    "Since we can not define the ditributions for the market factors directly, we can only approximate their distribution.\n",
    "The best way to do that, is plotting their value. Howevery, these values may fluctuate quite a lot. \n",
    "\n",
    "Next, we show how to use the Kernel density estimation (KDE) technique to approximate such distributions. In brief, kernel density estimation is a way of smoothing out a histogram: this is achieved by assigning (or centering) a probability distribution (usually a normal distribution) to each data point, and then summing. So a set of two-week-return samples would result in a large number of \"super-imposed\" normal distributions, each with a different mean. \n",
    "\n",
    "To estimate the probability density at a given point, KDE evaluates the PDFs of all the normal distributions at that point and takes their average. The smoothness of a kernel density plot depends on its *bandwidth*, and the standard deviation of each of the normal distributions. For a brief introduction on KDE, please refer to this [link](https://en.wikipedia.org/wiki/Kernel_density_estimation)."
   ]
  },
  {
   "cell_type": "code",
   "execution_count": 199,
   "metadata": {
    "collapsed": false,
    "scrolled": true
   },
   "outputs": [
    {
     "data": {
      "image/png": "[encoded data removed]",
      "text/plain": [
       "<matplotlib.figure.Figure at 0x7f6bb4567eb8>"
      ]
     },
     "metadata": {},
     "output_type": "display_data"
    },
    {
     "data": {
      "image/png": "[encoded data removed]",
      "text/plain": [
       "<matplotlib.figure.Figure at 0x7f6bc95f8908>"
      ]
     },
     "metadata": {},
     "output_type": "display_data"
    },
    {
     "data": {
      "image/png": "[encoded data removed]",
      "text/plain": [
       "<matplotlib.figure.Figure at 0x7f6b6fb12908>"
      ]
     },
     "metadata": {},
     "output_type": "display_data"
    },
    {
     "data": {
      "image/png": "[encoded data removed]",
      "text/plain": [
       "<matplotlib.figure.Figure at 0x7f6b6b97eac8>"
      ]
     },
     "metadata": {},
     "output_type": "display_data"
    }
   ],
   "source": [
    "from statsmodels.nonparametric.kernel_density import KDEMultivariate\n",
    "from statsmodels.nonparametric.kde import KDEUnivariate\n",
    "import matplotlib.pyplot as plt\n",
    "import scipy\n",
    "\n",
    "def plotDistribution(samples):\n",
    "    vmin = min(samples)\n",
    "    vmax = max(samples)\n",
    "    stddev = np.std(samples)\n",
    "    \n",
    "    domain = np.arange(vmin, vmax, (vmax-vmin)/100)\n",
    "    \n",
    "    # a simple heuristic to select bandwidth\n",
    "    bandwidth = 1.06 * stddev * pow(len(samples), -.2)\n",
    "    \n",
    "    # estimate density\n",
    "    kde = KDEUnivariate(samples)\n",
    "    kde.fit(bw=bandwidth)\n",
    "    density = kde.evaluate(domain)\n",
    "    \n",
    "    # plot\n",
    "    plt.plot(domain, density)\n",
    "    plt.show()\n",
    "\n",
    "plotDistribution(factorsReturns[0])\n",
    "plotDistribution(factorsReturns[1])\n",
    "plotDistribution(factorsReturns[2])\n",
    "plotDistribution(factorsReturns[3])"
   ]
  },
  {
   "cell_type": "markdown",
   "metadata": {},
   "source": [
    "For the sake of simplicity, we can say that our smoothed versions of the returns of each factor can be represented quite well by a a normal distribution. Of course, more exotic distributions, perhaps with fatter tails, could fit more closely the data, but it is outside the scope of this Notebook to proceed in this way.\n",
    "\n",
    "Now, the simplest way to sample factors returns is to use a normal distribution for each of the factors, and sample from these distributions independently. However, this approach ignores the fact that market factors are often correlated. For example, when the price of crude oil is down, the price of treasury bonds is down too. We can check our data to verify about the correlation."
   ]
  },
  {
   "cell_type": "markdown",
   "metadata": {},
   "source": [
    "![](https://farm2.staticflickr.com/1604/24934700445_833f0a5649_t.jpg)"
   ]
  },
  {
   "cell_type": "markdown",
   "metadata": {},
   "source": [
    "<div class='anchor' ></div>\n",
    "\n",
    "### Question 6\n",
    "\n",
    "#### Question 6.1\n",
    "Calculate the correlation between market factors and explain the result.\n",
    "\n",
    "HINT: function `np.corrcoef` might be useful."
   ]
  },
  {
   "cell_type": "code",
   "execution_count": 200,
   "metadata": {
    "collapsed": false
   },
   "outputs": [
    {
     "name": "stdout",
     "output_type": "stream",
     "text": [
      "General correlation: \n",
      "[[ 1.          0.38507954  0.47411609  0.45841194]\n",
      " [ 0.38507954  1.          0.55213086  0.54918324]\n",
      " [ 0.47411609  0.55213086  1.          0.95227596]\n",
      " [ 0.45841194  0.54918324  0.95227596  1.        ]]\n"
     ]
    }
   ],
   "source": [
    "'''\n",
    "comb = [[x, y] for x in range(4) for y in range(4) if x != y]\n",
    "\n",
    "for x, y in comb:\n",
    "    correlation = np.corrcoef(factorsReturns[x], factorsReturns[y])\n",
    "    print('Correlation between', x, 'and', y, ':')\n",
    "    print(correlation)\n",
    "    print()\n",
    "'''\n",
    "\n",
    "correlation = np.corrcoef([factorsReturns[i] for i in range(len(factorsReturns))])\n",
    "print('General correlation: ')\n",
    "print(correlation)"
   ]
  },
  {
   "cell_type": "markdown",
   "metadata": {},
   "source": [
    "<div class=\"comment\">\n",
    "\n",
    "PUT YOUR COMMENT HERE\n",
    "\n",
    "</div>"
   ]
  },
  {
   "cell_type": "markdown",
   "metadata": {},
   "source": [
    "\n",
    "\n",
    "The multivariate normal distribution can help here by taking the correlation information between the factors into account. Each sample from a multivariate normal distribution can be thought of as a vector. Given values for all of the dimensions but one, the distribution of values along that dimension is normal. But, in their joint distribution, the variables are not independent.\n",
    "\n",
    "For this use case, we can write:\n",
    "\n",
    "$$\n",
    "\\left(\\begin{array}{c}f_{1}\\\\f_{2}\\\\f_{3}\\\\f_{4} \\end{array}\\right)\n",
    "\\sim N \n",
    "\\left[\n",
    "  \\left(\n",
    "    \\begin{array}{c}\n",
    "      \\mu_1\\\\ \\mu_2 \\\\ \\mu_3 \\\\ \\mu_4 \n",
    "    \\end{array}\n",
    "  \\right), \n",
    "  \\left(\n",
    "    \\begin{array}{cccc}\n",
    "      \\sigma^2_1 & \\rho_{12} \\sigma_1\\sigma_2 & \\rho_{13} \\sigma_1\\sigma_3 & \\rho_{14} \\sigma_1\\sigma_4 \\\\ \n",
    "      \\rho_{12}\\sigma_2\\sigma_1 & \\sigma^2_2 & \\rho_{23} \\sigma_2\\sigma_3 & \\rho_{24} \\sigma_2\\sigma_4\\\\\n",
    "      \\rho_{13} \\sigma_3\\sigma_1 & \\rho_{23} \\sigma_3\\sigma_2 & \\sigma^2_3 & \\rho_{34} \\sigma_3\\sigma_4 \\\\ \n",
    "      \\rho_{14} \\sigma_4\\sigma_1 & \\rho_{24} \\sigma_4\\sigma_2 & \\rho_{34} \\sigma_3\\sigma_4 & \\sigma_4^2 \\\\ \n",
    "    \\end{array}\n",
    "  \\right)\n",
    "\\right]\n",
    "$$\n",
    "\n",
    "Or,\n",
    "\n",
    "$$\n",
    "f_t \\sim N(\\mu, \\sum)\n",
    "$$\n",
    "\n",
    "Where $f_1$, $f_2$, $f_3$ and $f_4$ are the market factors, $\\sigma_i$ is the standard deviation of factor $i$, $\\mu$ is a vector of the empirical means of the returns of the factors and $\\sum$ is the empirical covarance matrix of the returns of the factors.\n",
    "\n",
    "The multivariate normal is parameterized with a mean along each dimension and a matrix describing the covariance between each pair of dimensions. When the covariance matrix is diagonal, the multivariate normal reduces to sampling along each dimension independently, but placing non-zero values in the off-diagonals helps capture the relationships between variables. Whenever having the mean of this multivariate normal distribution and it's covariance matrix, we can generate the sample values for market factors.\n",
    "\n",
    "Next, we will calculate the mean and the covariance matrix of this multivariate normal distribution from the historical data.\n"
   ]
  },
  {
   "cell_type": "markdown",
   "metadata": {},
   "source": [
    "<div class='anchor' ></div>\n",
    "\n",
    "#### Question 6.2\n",
    "Calculate the covariance matrix $\\sum$ and the means $\\mu$ of factors' returns then generate a random vector of factors return that follows a multivariate normal distribution $\\sim N(\\mu, \\sum)$\n",
    "\n",
    "HINT:\n",
    "Function `np.cov` can help calculating covariance matrix. Function `np.random.multivariate_normal(<mean>, <cov>)` is often used for generating samples."
   ]
  },
  {
   "cell_type": "code",
   "execution_count": 201,
   "metadata": {
    "collapsed": false
   },
   "outputs": [
    {
     "name": "stdout",
     "output_type": "stream",
     "text": [
      "factorCov:\n",
      "[[  2.03712313e+01   2.70383097e-01   7.77281497e+01   1.72733934e+02]\n",
      " [  2.70383097e-01   2.42014227e-02   3.11994882e+00   7.13264857e+00]\n",
      " [  7.77281497e+01   3.11994882e+00   1.31938031e+03   2.88775882e+03]\n",
      " [  1.72733934e+02   7.13264857e+00   2.88775882e+03   6.96989443e+03]]\n",
      "\n",
      "factorMeans:\n",
      "[0.35908880308880364, 0.0019722007722007863, 6.953868592277998, 18.7092272903475]\n",
      "\n",
      "sample:\n",
      "[ 2.81032691 -0.15388182 -1.63457217  4.55127327]\n"
     ]
    }
   ],
   "source": [
    "factorCov = np.cov([factorsReturns[0], factorsReturns[1], factorsReturns[2], factorsReturns[3]])\n",
    "factorMeans = [sum(factorsReturns[i])/len(factorsReturns[i]) for i in range(4)]\n",
    "sample = np.random.multivariate_normal(factorMeans, factorCov)\n",
    "print('factorCov:')\n",
    "print(factorCov)\n",
    "print()\n",
    "print('factorMeans:')\n",
    "print(factorMeans)\n",
    "print()\n",
    "print('sample:')\n",
    "print(sample)"
   ]
  },
  {
   "cell_type": "markdown",
   "metadata": {},
   "source": [
    "### Step 3&4: Generating samples, running simulation and calculating the VaR"
   ]
  },
  {
   "cell_type": "markdown",
   "metadata": {},
   "source": [
    "We define some functions that helps us calculating VaR 5%. You will see that the functions below are pretty complicated! This is why we provide a solution for you: however, study them well!!\n",
    "\n",
    "The basic idea of calculating VaR 5% is that we need to find a value such that only 5% of the losses are bigger than it. That means the 5th percentile of the losses should be VaR 5%.\n",
    "\n",
    "VaR can sometimes be problematic though, since it does give any information on the extent of the losses which can exceed the VaR estimate. CVar is an extension of VaR that is introduced to deal with this problem. Indeed, CVaR measures the expected value of the loss in those cases where VaR estimate has been exceeded."
   ]
  },
  {
   "cell_type": "code",
   "execution_count": 202,
   "metadata": {
    "collapsed": true
   },
   "outputs": [],
   "source": [
    "def fivePercentVaR(trials):\n",
    "    numTrials = trials.count()\n",
    "    topLosses = trials.takeOrdered(max(round(numTrials/20.0), 1))\n",
    "    return topLosses[-1]\n",
    "\n",
    "# an extension of VaR\n",
    "def fivePercentCVaR(trials):\n",
    "    numTrials = trials.count()\n",
    "    topLosses = trials.takeOrdered(max(round(numTrials/20.0), 1))\n",
    "    return sum(topLosses)/len(topLosses)\n",
    "\n",
    "def bootstrappedConfidenceInterval(\n",
    "      trials, computeStatisticFunction,\n",
    "      numResamples, pValue):\n",
    "    stats = []\n",
    "    for i in range(0, numResamples):\n",
    "        resample = trials.sample(True, 1.0)\n",
    "        stats.append(computeStatisticFunction(resample))\n",
    "    sorted(stats)\n",
    "    lowerIndex = int(numResamples * pValue / 2 - 1)\n",
    "    upperIndex = int(np.ceil(numResamples * (1 - pValue / 2)))\n",
    "    return (stats[lowerIndex], stats[upperIndex])"
   ]
  },
  {
   "cell_type": "markdown",
   "metadata": {},
   "source": [
    "Next, we will run the Monte Carlo simulation 10,000 times, in parallel using Spark. Since your cluster has 12 cores (two Spark worker nodes, each with 6 cores), we can set `parallelism = 12` to dispatch simulation on these cores, across the two machines (remember, those are not really \"physical machines\", they are Docker containers running in our infrastructure)."
   ]
  },
  {
   "cell_type": "markdown",
   "metadata": {},
   "source": [
    "![](https://farm2.staticflickr.com/1604/24934700445_833f0a5649_t.jpg)"
   ]
  },
  {
   "cell_type": "markdown",
   "metadata": {},
   "source": [
    "<div class='anchor' ></div>\n",
    "\n",
    "### Question 7\n",
    "Complete the code below to define the simulation process and calculate VaR 5%."
   ]
  },
  {
   "cell_type": "code",
   "execution_count": 203,
   "metadata": {
    "collapsed": false
   },
   "outputs": [
    {
     "name": "stdout",
     "output_type": "stream",
     "text": [
      "Value at Risk(VaR) 5%: -19.0186098147\n",
      "Conditional Value at Risk(CVaR) 5%: -24.3478947367\n"
     ]
    }
   ],
   "source": [
    "# RUN SILMULATION\n",
    "def simulateTrialReturns(numTrials, factorMeans, factorCov, weights):\n",
    "    trialReturns = []\n",
    "    for i in range(0, numTrials):\n",
    "        # generate sample of factors' returns\n",
    "        trialFactorReturns = np.random.multivariate_normal(factorMeans, factorCov)\n",
    "        \n",
    "        # featurize the factors' returns\n",
    "        trialFeatures = featurize(trialFactorReturns.tolist())\n",
    "        \n",
    "        # insert weight for intercept term\n",
    "        trialFeatures.insert(0,1)\n",
    "        \n",
    "        trialTotalReturn = 0\n",
    "        \n",
    "        # calculate the return of each instrument\n",
    "        # then calulate the total of return for this trial features  !!!! sum\n",
    "        trialTotalReturn = np.dot(weights,trialFeatures).sum()\n",
    "        \n",
    "        trialReturns.append(trialTotalReturn)\n",
    "    return trialReturns\n",
    "#### no idx.\n",
    "parallelism = 12\n",
    "numTrials = 10000\n",
    "trial_indexes = list(range(0, parallelism))\n",
    "seedRDD = sc.parallelize(trial_indexes, parallelism)\n",
    "bFactorWeights = sc.broadcast(weights)\n",
    "\n",
    "trials = seedRDD.flatMap(lambda idx: \\\n",
    "                simulateTrialReturns(\n",
    "                    max(int(numTrials/parallelism), 1), \n",
    "                    factorMeans, factorCov,\n",
    "                    bFactorWeights.value\n",
    "                ))\n",
    "trials.cache()\n",
    "\n",
    "valueAtRisk = fivePercentVaR(trials)\n",
    "conditionalValueAtRisk = fivePercentCVaR(trials)\n",
    "\n",
    "print(\"Value at Risk(VaR) 5%:\", valueAtRisk)\n",
    "print(\"Conditional Value at Risk(CVaR) 5%:\", conditionalValueAtRisk)"
   ]
  },
  {
   "cell_type": "markdown",
   "metadata": {},
   "source": [
    "The value of VaR depends on how many invested stocks and the chosen distribution of random variables. Assume that we get VaR 5% = -2.66,  that means that there is a 0.05 probability that the portfolio will fall in value by more than \\$2.66 over a two weeks period if there is no trading. In other words, the loses are less than \\$2.66 over two weeks period with 95% confidence level. When a loss over two weeks is more than \\$2.66, we call it **failure** (or **exception**). Informally, because of 5% probability, we expect that there are only $0.05*W$ failures out of total $W$ windows."
   ]
  },
  {
   "cell_type": "markdown",
   "metadata": {
    "collapsed": false
   },
   "source": [
    "### Step 5: Evaluating the results using backtesting method\n",
    "In general, the error in a Monte Carlo simulation should be proportional to 1/sqrt(n), where n is the number of trials. This means, for example, that quadrupling the number of trials should approximately cut the error in half. A good way to check the quality of a result is backtesting on historical data. Backtesting is a statistical procedure where actual losses are compared to the estimated VaR. For instance, if the confidence level used to calculate VaR is 95% (or VaR 5%), we expect only 5 failures over 100 two-week time windows.\n",
    "\n",
    "The most common test of a VaR model is counting the number of VaR failures, i.e, in how many windows, the losses exceed VaR estimate. If the number of exceptions is less than selected confidence level would indicate, the VaR model overestimates the risk. On the contrary, if there are too many exceptions, the risk is underestimated. However, it's very hard to observe the amount of failures suggested by the confidence level exactly. Therefore, people try to study whether the number of failures is reasonable or not, or will the model be accepted or rejected.\n",
    "\n",
    "One common test is Kupiec's proportion-of-failures (POF) test. This test considers how the portfolio performed at many historical time intervals and counts the number of times that the losses exceeded the VaR. The null hypothesis is that the VaR is reasonable, and a sufficiently extreme test statistic means that the VaR estimate does not accurately describe the data. The test statistic is computed as:\n",
    "\n",
    "$$\n",
    "-2ln\\Bigg(\\frac{(1-p)^{T-x}p^x}{(1-\\frac{x}{T})^{T-x}(\\frac{x}{T})^x}\\Bigg)\n",
    "$$\n",
    "\n",
    "where:\n",
    "\n",
    "$p$ is the quantile-of-loss of the VaR calculation (e.g, in VaR 5%, p=0.05),\n",
    "\n",
    "$x$ (the number of failures) is the number of historical intervals over which the losses exceeded the VaR \n",
    "\n",
    "$T$ is  the total number of historical intervals considered\n",
    "\n",
    "Or we can expand out the log for better numerical stability:\n",
    "\n",
    "$$\n",
    "\\begin{equation}\n",
    "-2\\Big((T-x)ln(1-p)+x*ln(p)-(T-x)ln(1-\\frac{x}{T})-x*ln(\\frac{x}{T})\\Big)\n",
    "\\end{equation}\n",
    "$$\n",
    "\n",
    "If we assume the null hypothesis that the VaR is reasonable, then this test statistic is drawn from a chi-squared distribution with a single degree of freedom. By using Chi-squared distribution, we can find the `p-value` accompanying our test statistic value.  If `p-value` exceeds the critical value of the Chi-squared distribution, we do have sufficient evidence to reject the null hypothesis that the model is reasonable. Or we can say, in that case, the model is considered as inaccurate.\n",
    "\n",
    "For example, assume that we calculate VaR 5% (the confidence level of the VaR model is 95%) and get value VaR = 2.26. We also observed 50 exceptions over 500 time windows. Using the formular above, the test statistic `p-value` is calculated and equal to `8.08`. Compared to `3.84`, the critical value of Chi-squared distribution with one degree of freedom at probability 5%, the test statistic is larger. So, the model is rejected. The critical values of Chi-squared can be found by following [this link](https://people.richland.edu/james/lecture/m170/tbl-chi.html).\n",
    "However, in this Notebook, it's not a good idea to find the corresponding critical value by looking in a \"messy\" table, especially when we need to change the confidence level. Insteads, from `p-value`, we will calculate the probability of the test statistic in Chi-square thanks to some functions in package `scipy`. If the calculated probability is smaller than the quantile of loss (e.g, 0.05), the model is rejected and vice versa.\n"
   ]
  },
  {
   "cell_type": "markdown",
   "metadata": {},
   "source": [
    "![](https://farm2.staticflickr.com/1604/24934700445_833f0a5649_t.jpg)"
   ]
  },
  {
   "cell_type": "markdown",
   "metadata": {},
   "source": [
    "<div class='anchor' ></div>\n",
    "### Question 8\n",
    "\n",
    "#### Question 8.1\n",
    "Write a function to calculate the number of failures, that is when the losses (in the original data) exceed the VaR.\n",
    "\n",
    "HINT:\n",
    "- First, we need to calculate the total loss in each 2-week time interval\n",
    "- If the total loss of a time interval exceeds VaR, then we say that our VaR fails to estimate the risk in that time interval.\n",
    "- Return the number of failures\n",
    "\n",
    "NOTE: The loss is often has negative value, so, be careful when compare it to VaR."
   ]
  },
  {
   "cell_type": "code",
   "execution_count": 207,
   "metadata": {
    "collapsed": false
   },
   "outputs": [
    {
     "name": "stdout",
     "output_type": "stream",
     "text": [
      "25\n"
     ]
    }
   ],
   "source": [
    "from scipy import stats\n",
    "import math\n",
    "print(len(stocksReturns))\n",
    "def countFailures(stocksReturns, valueAtRisk):\n",
    "    failures = 0\n",
    "    # iterate over time intervals\n",
    "    for i in range(0, len(stocksReturns[0])):                        \n",
    "        # calculate the losses in each time interval\n",
    "         ##### changed ##########\n",
    "        loss=sum([stocks[i] for stocks in stocksReturns])           \n",
    "        # if the loss exceeds VaR\n",
    "        if loss < valueAtRisk:\n",
    "            failures += 1\n",
    "    return failures"
   ]
  },
  {
   "cell_type": "markdown",
   "metadata": {},
   "source": [
    "<div class='anchor' ></div>\n",
    "\n",
    "#### Question 8.2\n",
    "Write a function named `kupiecTestStatistic` to calculate the test statistic which was described in the above equation."
   ]
  },
  {
   "cell_type": "code",
   "execution_count": 208,
   "metadata": {
    "collapsed": false
   },
   "outputs": [],
   "source": [
    "def kupiecTestStatistic(total, failures, confidenceLevel):\n",
    "    failureRatio = failures/total\n",
    "    logNumer = (total - failures) * math.log(1 - confidenceLevel) + failures * math.log(confidenceLevel)\n",
    "    logDenom = (total - failures) * math.log(1 - failureRatio) + failures * math.log(failureRatio)\n",
    "    return -2 * (logNumer - logDenom)    \n",
    "# test the function\n",
    "assert (round(kupiecTestStatistic(250, 36, 0.1), 2) == 4.80), \"function kupiecTestStatistic runs incorrectly\""
   ]
  },
  {
   "cell_type": "markdown",
   "metadata": {},
   "source": [
    "Now we can find the p-value accompanying our test statistic value."
   ]
  },
  {
   "cell_type": "code",
   "execution_count": 212,
   "metadata": {
    "collapsed": false
   },
   "outputs": [
    {
     "name": "stdout",
     "output_type": "stream",
     "text": [
      "VaR confidence interval:  (-18.898732891192935, -19.084019656236347)\n",
      "CVaR confidence interval:  (-24.364844787637356, -23.89322553033249)\n",
      "num failures: 103 / 1295\n",
      "Kupiec test p-value:  6.53074567541e-06\n"
     ]
    }
   ],
   "source": [
    "def kupiecTestPValue(stocksReturns, valueAtRisk, confidenceLevel):\n",
    "    failures = countFailures(stocksReturns, valueAtRisk)\n",
    "    print(\"num failures:\", failures, \"/\", len(stocksReturns[0]))\n",
    "    if failures == 0:\n",
    "        # the model is very good\n",
    "        return 1\n",
    "    total = len(stocksReturns[0])\n",
    "    testStatistic = kupiecTestStatistic(total, failures, confidenceLevel)\n",
    "    #return 1 - stats.chi2.cdf(testStatistic, 1.0)\n",
    "    return stats.chisqprob(testStatistic, 1.0)\n",
    "\n",
    "varConfidenceInterval = bootstrappedConfidenceInterval(trials, fivePercentVaR, 100, 0.05)\n",
    "cvarConfidenceInterval = bootstrappedConfidenceInterval(trials, fivePercentCVaR, 100, .05)\n",
    "print(\"VaR confidence interval: \" , varConfidenceInterval)\n",
    "print(\"CVaR confidence interval: \" , cvarConfidenceInterval)\n",
    "print(\"Kupiec test p-value: \" , kupiecTestPValue(stocksReturns, valueAtRisk, 0.05))"
   ]
  },
  {
   "cell_type": "markdown",
   "metadata": {},
   "source": [
    "<div class='anchor' ></div>\n",
    "#### Question 8.3\n",
    "Discuss the results you have obtained"
   ]
  },
  {
   "cell_type": "markdown",
   "metadata": {},
   "source": [
    "<div class=\"answer\">\n",
    "\n",
    "the model is rejected , based on the kupiec test because it is smaller than the quantile but also because we have a 103/1295 failiure , when we were expecting a 5%.\n",
    "\n",
    "</div>"
   ]
  },
  {
   "cell_type": "markdown",
   "metadata": {},
   "source": [
    "![](https://farm2.staticflickr.com/1604/24934700445_833f0a5649_t.jpg)"
   ]
  },
  {
   "cell_type": "markdown",
   "metadata": {},
   "source": [
    "<div class='anchor' ></div>\n",
    "### Question 9\n",
    "\n",
    "Assume that we invest in more than 100 stocks. Use the same market factors as for the previous questions to estimate VaR by running MCS, then validate your result.\n",
    "\n",
    "What is the main observation you have, once you answer this question? When you plan to invest in more instruments, how is your ability to predict the risk going to be affected?\n"
   ]
  },
  {
   "cell_type": "code",
   "execution_count": 217,
   "metadata": {
    "collapsed": false
   },
   "outputs": [
    {
     "name": "stdout",
     "output_type": "stream",
     "text": [
      "394 stocks available\n"
     ]
    }
   ],
   "source": [
    "# select path of all stock data files in \"stock_folder\"\n",
    "files = [join(stock_folder, f) for f in listdir(stock_folder) if isfile(join(stock_folder, f))]\n",
    "\n",
    "# assume that we invest the first 500 stocks\n",
    "#print(len(files), 'stocks available')\n",
    "files_invest = files[:500]\n",
    "\n",
    "# read each line in each file, convert it into the format: (date, value)\n",
    "rawStocks = [process_stock_file(f) for f in files_invest]\n",
    "# select only instruments which have more than 5 years of history\n",
    "rawStocks = list(filter(lambda instrument: len(instrument)>=5*260, rawStocks))\n",
    "print(len(rawStocks), 'stocks available')\n",
    "\n",
    "stocks = list(map(lambda stock: \\\n",
    "            fillInHistory(\n",
    "                trimToRegion(stock, start, end), \n",
    "            start, end), \n",
    "        rawStocks))"
   ]
  },
  {
   "cell_type": "code",
   "execution_count": 219,
   "metadata": {
    "collapsed": true
   },
   "outputs": [],
   "source": [
    "stocksReturns = list(map(twoWeekReturns, stocks))\n",
    "weights = [estimateParams(stocksReturn, factor_columns) for stocksReturn in stocksReturns]"
   ]
  },
  {
   "cell_type": "code",
   "execution_count": 220,
   "metadata": {
    "collapsed": false
   },
   "outputs": [
    {
     "name": "stdout",
     "output_type": "stream",
     "text": [
      "Value at Risk(VaR) 5%: -281.667666442\n",
      "Conditional Value at Risk(CVaR) 5%: -367.084067482\n"
     ]
    }
   ],
   "source": [
    "parallelism = 12\n",
    "numTrials = 10000\n",
    "trial_indexes = list(range(0, parallelism))\n",
    "seedRDD = sc.parallelize(trial_indexes, parallelism)\n",
    "bFactorWeights = sc.broadcast(weights)\n",
    "\n",
    "trials = seedRDD.flatMap(lambda idx: \\\n",
    "                simulateTrialReturns(\n",
    "                    max(int(numTrials/parallelism), 1), \n",
    "                    factorMeans, factorCov,\n",
    "                    bFactorWeights.value\n",
    "                ))\n",
    "trials.cache()\n",
    "\n",
    "valueAtRisk = fivePercentVaR(trials)\n",
    "conditionalValueAtRisk = fivePercentCVaR(trials)\n",
    "\n",
    "print(\"Value at Risk(VaR) 5%:\", valueAtRisk)\n",
    "print(\"Conditional Value at Risk(CVaR) 5%:\", conditionalValueAtRisk)"
   ]
  },
  {
   "cell_type": "code",
   "execution_count": 221,
   "metadata": {
    "collapsed": false
   },
   "outputs": [
    {
     "name": "stdout",
     "output_type": "stream",
     "text": [
      "VaR confidence interval:  (-281.66766644205404, -281.1236036607923)\n",
      "CVaR confidence interval:  (-363.649872856233, -366.30900744975645)\n",
      "num failures: 92 / 1295\n",
      "Kupiec test p-value:  0.00104901548216\n"
     ]
    }
   ],
   "source": [
    "stocksReturns = list(map(twoWeekReturns, stocks))\n",
    "varConfidenceInterval = bootstrappedConfidenceInterval(trials, fivePercentVaR, 100, 0.05)\n",
    "cvarConfidenceInterval = bootstrappedConfidenceInterval(trials, fivePercentCVaR, 100, .05)\n",
    "print(\"VaR confidence interval: \" , varConfidenceInterval)\n",
    "print(\"CVaR confidence interval: \" , cvarConfidenceInterval)\n",
    "print(\"Kupiec test p-value: \" , kupiecTestPValue(stocksReturns, valueAtRisk, 0.05))"
   ]
  },
  {
   "cell_type": "markdown",
   "metadata": {},
   "source": [
    "<div class=\"answer\">\n",
    "\n",
    "PUT YOUR ANSWER HERE !\n",
    "\n",
    "</div>"
   ]
  },
  {
   "cell_type": "markdown",
   "metadata": {},
   "source": [
    "![](https://farm2.staticflickr.com/1604/24934700445_833f0a5649_t.jpg)"
   ]
  },
  {
   "cell_type": "markdown",
   "metadata": {},
   "source": [
    "<div class='anchor' ></div>\n",
    "### Question 10\n",
    "\n",
    "In the previous questions, we used the normal distributions to sample the factors returns.\n",
    "\n",
    "Try to study how results vary when selecting other probability distributions: our goal is to improve the result of our MCS."
   ]
  },
  {
   "cell_type": "markdown",
   "metadata": {},
   "source": [
    "Here we use log-normal distributions to sample the factor returns: http://docs.scipy.org/doc/numpy/reference/generated/numpy.random.lognormal.html#numpy.random.lognormal, instead of the covariance matrix we need the standart deviation matrix to compute the samples."
   ]
  },
  {
   "cell_type": "markdown",
   "metadata": {},
   "source": [
    "Distribution fitting: Next we try to plot distributions that may be accurate for our data and compare them to the distributions we inferred from the KDE technique.\n",
    "our candidates are probability distributions must be defined over entire real axis , they can be bounded or unbounded: logistic distribution. students t distribution , we use maximum likelihood to decide which one to choose. lets look at the skewness of our data"
   ]
  },
  {
   "cell_type": "code",
   "execution_count": 222,
   "metadata": {
    "collapsed": false
   },
   "outputs": [
    {
     "name": "stdout",
     "output_type": "stream",
     "text": [
      "skewness of facorsReturns[0] -0.3090808597352731\n",
      "skewness of facorsReturns[1] -0.21072705708230788\n",
      "skewness of facorsReturns[2] -0.7391064932634629\n",
      "skewness of facorsReturns[3] -0.6533835923511565\n"
     ]
    }
   ],
   "source": [
    "print('skewness of facorsReturns[0]',scipy.stats.skew(factorsReturns[0]))\n",
    "print('skewness of facorsReturns[1]',scipy.stats.skew(factorsReturns[1]))\n",
    "print('skewness of facorsReturns[2]',scipy.stats.skew(factorsReturns[2]))\n",
    "print('skewness of facorsReturns[3]',scipy.stats.skew(factorsReturns[3]))"
   ]
  },
  {
   "cell_type": "markdown",
   "metadata": {},
   "source": [
    "Here we propose to use a t_student distribution because the population distribution is moderately skewed and close to normal. it is not implemented in numpy stats modules."
   ]
  },
  {
   "cell_type": "code",
   "execution_count": 234,
   "metadata": {
    "collapsed": true
   },
   "outputs": [],
   "source": [
    "# Defining a function to sample from  a multivariate t_student distribution:\n",
    "\n",
    "def multivariate_t(m, S, df=np.inf, n=1):\n",
    "    '''generate random variables of multivariate t distribution\n",
    "\n",
    "    Parameters\n",
    "    ----------\n",
    "    m : array_like\n",
    "        mean of random variable, length determines dimension of random variable\n",
    "    S : array_like\n",
    "        square array of covariance  matrix\n",
    "    df : int or float\n",
    "        degrees of freedom\n",
    "    n : int\n",
    "        number of observations, return random array will be (n, len(m))\n",
    "\n",
    "    Returns\n",
    "    -------\n",
    "    rvs : ndarray, (n, len(m))\n",
    "        each row is an independent draw of a multivariate t distributed\n",
    "        random variable\n",
    "    '''\n",
    "    m = np.asarray(m)\n",
    "    d = len(m)\n",
    "    if df == np.inf:\n",
    "        x = 1.\n",
    "    else:\n",
    "        x = np.random.chisquare(df, n)/df\n",
    "    z = np.random.multivariate_normal(np.zeros(d),S,(n,))\n",
    "    return m + z/np.sqrt(x)[:,None]   # same output format as random.multivariate_normal"
   ]
  },
  {
   "cell_type": "code",
   "execution_count": 235,
   "metadata": {
    "collapsed": true
   },
   "outputs": [],
   "source": [
    "def simulateTrialReturns_student(numTrials, factorMeans, factorDev, weights):\n",
    "    trialReturns = []\n",
    "    for i in range(0, numTrials):\n",
    "        # generate sample of factors' returns  we use 4 degrees of freedom.\n",
    "        trialFactorReturns = multivariate_t(factorMeans,factorDev,4,len(factorMeans))\n",
    "        \n",
    "        # featurize the factors' returns\n",
    "        trialFeatures = featurize(trialFactorReturns.tolist())\n",
    "        \n",
    "        # insert weight for intercept term\n",
    "        trialFeatures.insert(0,1)\n",
    "        \n",
    "        trialTotalReturn = 0\n",
    "        \n",
    "        # calculate the return of each instrument\n",
    "        # then calulate the total of return for this trial features\n",
    "        trialTotalReturn = np.dot(trialFeatures, transpose(weights))\n",
    "        \n",
    "        trialReturns.append(trialTotalReturn)\n",
    "    return trialReturns"
   ]
  },
  {
   "cell_type": "code",
   "execution_count": 236,
   "metadata": {
    "collapsed": false
   },
   "outputs": [
    {
     "ename": "Py4JJavaError",
     "evalue": "An error occurred while calling z:org.apache.spark.api.python.PythonRDD.collectAndServe.\n: org.apache.spark.SparkException: Job aborted due to stage failure: Task 0 in stage 2831.0 failed 4 times, most recent failure: Lost task 0.3 in stage 2831.0 (TID 34237, spark-worker1-aml-lab-group16-prod-zoe.group16-prod-zoe): org.apache.spark.api.python.PythonException: Traceback (most recent call last):\n  File \"/opt/spark/python/lib/pyspark.zip/pyspark/worker.py\", line 111, in main\n    process()\n  File \"/opt/spark/python/lib/pyspark.zip/pyspark/worker.py\", line 106, in process\n    serializer.dump_stream(func(split_index, iterator), outfile)\n  File \"/opt/spark/python/lib/pyspark.zip/pyspark/serializers.py\", line 263, in dump_stream\n    vs = list(itertools.islice(iterator, batch))\n  File \"<ipython-input-236-344d8dcd636e>\", line 4, in <lambda>\n  File \"<ipython-input-235-fd5afa75df32>\", line 5, in simulateTrialReturns_student\n  File \"<ipython-input-234-86406501b754>\", line 29, in multivariate_t\n  File \"mtrand.pyx\", line 4361, in mtrand.RandomState.multivariate_normal (numpy/random/mtrand/mtrand.c:28359)\nValueError: cov must be 2 dimensional and square\n\n\tat org.apache.spark.api.python.PythonRunner$$anon$1.read(PythonRDD.scala:166)\n\tat org.apache.spark.api.python.PythonRunner$$anon$1.<init>(PythonRDD.scala:207)\n\tat org.apache.spark.api.python.PythonRunner.compute(PythonRDD.scala:125)\n\tat org.apache.spark.api.python.PythonRDD.compute(PythonRDD.scala:70)\n\tat org.apache.spark.rdd.RDD.computeOrReadCheckpoint(RDD.scala:300)\n\tat org.apache.spark.CacheManager.getOrCompute(CacheManager.scala:69)\n\tat org.apache.spark.rdd.RDD.iterator(RDD.scala:262)\n\tat org.apache.spark.api.python.PythonRDD.compute(PythonRDD.scala:70)\n\tat org.apache.spark.rdd.RDD.computeOrReadCheckpoint(RDD.scala:300)\n\tat org.apache.spark.rdd.RDD.iterator(RDD.scala:264)\n\tat org.apache.spark.scheduler.ResultTask.runTask(ResultTask.scala:66)\n\tat org.apache.spark.scheduler.Task.run(Task.scala:88)\n\tat org.apache.spark.executor.Executor$TaskRunner.run(Executor.scala:214)\n\tat java.util.concurrent.ThreadPoolExecutor.runWorker(ThreadPoolExecutor.java:1145)\n\tat java.util.concurrent.ThreadPoolExecutor$Worker.run(ThreadPoolExecutor.java:615)\n\tat java.lang.Thread.run(Thread.java:745)\n\nDriver stacktrace:\n\tat org.apache.spark.scheduler.DAGScheduler.org$apache$spark$scheduler$DAGScheduler$$failJobAndIndependentStages(DAGScheduler.scala:1283)\n\tat org.apache.spark.scheduler.DAGScheduler$$anonfun$abortStage$1.apply(DAGScheduler.scala:1271)\n\tat org.apache.spark.scheduler.DAGScheduler$$anonfun$abortStage$1.apply(DAGScheduler.scala:1270)\n\tat scala.collection.mutable.ResizableArray$class.foreach(ResizableArray.scala:59)\n\tat scala.collection.mutable.ArrayBuffer.foreach(ArrayBuffer.scala:47)\n\tat org.apache.spark.scheduler.DAGScheduler.abortStage(DAGScheduler.scala:1270)\n\tat org.apache.spark.scheduler.DAGScheduler$$anonfun$handleTaskSetFailed$1.apply(DAGScheduler.scala:697)\n\tat org.apache.spark.scheduler.DAGScheduler$$anonfun$handleTaskSetFailed$1.apply(DAGScheduler.scala:697)\n\tat scala.Option.foreach(Option.scala:236)\n\tat org.apache.spark.scheduler.DAGScheduler.handleTaskSetFailed(DAGScheduler.scala:697)\n\tat org.apache.spark.scheduler.DAGSchedulerEventProcessLoop.doOnReceive(DAGScheduler.scala:1496)\n\tat org.apache.spark.scheduler.DAGSchedulerEventProcessLoop.onReceive(DAGScheduler.scala:1458)\n\tat org.apache.spark.scheduler.DAGSchedulerEventProcessLoop.onReceive(DAGScheduler.scala:1447)\n\tat org.apache.spark.util.EventLoop$$anon$1.run(EventLoop.scala:48)\n\tat org.apache.spark.scheduler.DAGScheduler.runJob(DAGScheduler.scala:567)\n\tat org.apache.spark.SparkContext.runJob(SparkContext.scala:1824)\n\tat org.apache.spark.SparkContext.runJob(SparkContext.scala:1837)\n\tat org.apache.spark.SparkContext.runJob(SparkContext.scala:1850)\n\tat org.apache.spark.SparkContext.runJob(SparkContext.scala:1921)\n\tat org.apache.spark.rdd.RDD$$anonfun$collect$1.apply(RDD.scala:909)\n\tat org.apache.spark.rdd.RDDOperationScope$.withScope(RDDOperationScope.scala:147)\n\tat org.apache.spark.rdd.RDDOperationScope$.withScope(RDDOperationScope.scala:108)\n\tat org.apache.spark.rdd.RDD.withScope(RDD.scala:310)\n\tat org.apache.spark.rdd.RDD.collect(RDD.scala:908)\n\tat org.apache.spark.api.python.PythonRDD$.collectAndServe(PythonRDD.scala:405)\n\tat org.apache.spark.api.python.PythonRDD.collectAndServe(PythonRDD.scala)\n\tat sun.reflect.GeneratedMethodAccessor37.invoke(Unknown Source)\n\tat sun.reflect.DelegatingMethodAccessorImpl.invoke(DelegatingMethodAccessorImpl.java:43)\n\tat java.lang.reflect.Method.invoke(Method.java:606)\n\tat py4j.reflection.MethodInvoker.invoke(MethodInvoker.java:231)\n\tat py4j.reflection.ReflectionEngine.invoke(ReflectionEngine.java:379)\n\tat py4j.Gateway.invoke(Gateway.java:259)\n\tat py4j.commands.AbstractCommand.invokeMethod(AbstractCommand.java:133)\n\tat py4j.commands.CallCommand.execute(CallCommand.java:79)\n\tat py4j.GatewayConnection.run(GatewayConnection.java:207)\n\tat java.lang.Thread.run(Thread.java:745)\nCaused by: org.apache.spark.api.python.PythonException: Traceback (most recent call last):\n  File \"/opt/spark/python/lib/pyspark.zip/pyspark/worker.py\", line 111, in main\n    process()\n  File \"/opt/spark/python/lib/pyspark.zip/pyspark/worker.py\", line 106, in process\n    serializer.dump_stream(func(split_index, iterator), outfile)\n  File \"/opt/spark/python/lib/pyspark.zip/pyspark/serializers.py\", line 263, in dump_stream\n    vs = list(itertools.islice(iterator, batch))\n  File \"<ipython-input-236-344d8dcd636e>\", line 4, in <lambda>\n  File \"<ipython-input-235-fd5afa75df32>\", line 5, in simulateTrialReturns_student\n  File \"<ipython-input-234-86406501b754>\", line 29, in multivariate_t\n  File \"mtrand.pyx\", line 4361, in mtrand.RandomState.multivariate_normal (numpy/random/mtrand/mtrand.c:28359)\nValueError: cov must be 2 dimensional and square\n\n\tat org.apache.spark.api.python.PythonRunner$$anon$1.read(PythonRDD.scala:166)\n\tat org.apache.spark.api.python.PythonRunner$$anon$1.<init>(PythonRDD.scala:207)\n\tat org.apache.spark.api.python.PythonRunner.compute(PythonRDD.scala:125)\n\tat org.apache.spark.api.python.PythonRDD.compute(PythonRDD.scala:70)\n\tat org.apache.spark.rdd.RDD.computeOrReadCheckpoint(RDD.scala:300)\n\tat org.apache.spark.CacheManager.getOrCompute(CacheManager.scala:69)\n\tat org.apache.spark.rdd.RDD.iterator(RDD.scala:262)\n\tat org.apache.spark.api.python.PythonRDD.compute(PythonRDD.scala:70)\n\tat org.apache.spark.rdd.RDD.computeOrReadCheckpoint(RDD.scala:300)\n\tat org.apache.spark.rdd.RDD.iterator(RDD.scala:264)\n\tat org.apache.spark.scheduler.ResultTask.runTask(ResultTask.scala:66)\n\tat org.apache.spark.scheduler.Task.run(Task.scala:88)\n\tat org.apache.spark.executor.Executor$TaskRunner.run(Executor.scala:214)\n\tat java.util.concurrent.ThreadPoolExecutor.runWorker(ThreadPoolExecutor.java:1145)\n\tat java.util.concurrent.ThreadPoolExecutor$Worker.run(ThreadPoolExecutor.java:615)\n\t... 1 more\n",
     "output_type": "error",
     "traceback": [
      "\u001b[1;31m---------------------------------------------------------------------------\u001b[0m",
      "\u001b[1;31mPy4JJavaError\u001b[0m                             Traceback (most recent call last)",
      "\u001b[1;32m<ipython-input-236-344d8dcd636e>\u001b[0m in \u001b[0;36m<module>\u001b[1;34m()\u001b[0m\n\u001b[0;32m      5\u001b[0m                 ))\n\u001b[0;32m      6\u001b[0m \u001b[0mtrials\u001b[0m\u001b[1;33m.\u001b[0m\u001b[0mcache\u001b[0m\u001b[1;33m(\u001b[0m\u001b[1;33m)\u001b[0m\u001b[1;33m\u001b[0m\u001b[0m\n\u001b[1;32m----> 7\u001b[1;33m \u001b[0mvalueAtRisk\u001b[0m \u001b[1;33m=\u001b[0m \u001b[0mfivePercentVaR\u001b[0m\u001b[1;33m(\u001b[0m\u001b[0mtrials\u001b[0m\u001b[1;33m)\u001b[0m\u001b[1;33m\u001b[0m\u001b[0m\n\u001b[0m\u001b[0;32m      8\u001b[0m \u001b[0mconditionalValueAtRisk\u001b[0m \u001b[1;33m=\u001b[0m \u001b[0mfivePercentCVaR\u001b[0m\u001b[1;33m(\u001b[0m\u001b[0mtrials\u001b[0m\u001b[1;33m)\u001b[0m\u001b[1;33m\u001b[0m\u001b[0m\n\u001b[0;32m      9\u001b[0m \u001b[0mprint\u001b[0m\u001b[1;33m(\u001b[0m\u001b[1;34m\"Value at Risk(VaR) 5%:\"\u001b[0m\u001b[1;33m,\u001b[0m \u001b[0mvalueAtRisk\u001b[0m\u001b[1;33m)\u001b[0m\u001b[1;33m\u001b[0m\u001b[0m\n",
      "\u001b[1;32m<ipython-input-202-36cf249e8d9e>\u001b[0m in \u001b[0;36mfivePercentVaR\u001b[1;34m(trials)\u001b[0m\n\u001b[0;32m      1\u001b[0m \u001b[1;32mdef\u001b[0m \u001b[0mfivePercentVaR\u001b[0m\u001b[1;33m(\u001b[0m\u001b[0mtrials\u001b[0m\u001b[1;33m)\u001b[0m\u001b[1;33m:\u001b[0m\u001b[1;33m\u001b[0m\u001b[0m\n\u001b[1;32m----> 2\u001b[1;33m     \u001b[0mnumTrials\u001b[0m \u001b[1;33m=\u001b[0m \u001b[0mtrials\u001b[0m\u001b[1;33m.\u001b[0m\u001b[0mcount\u001b[0m\u001b[1;33m(\u001b[0m\u001b[1;33m)\u001b[0m\u001b[1;33m\u001b[0m\u001b[0m\n\u001b[0m\u001b[0;32m      3\u001b[0m     \u001b[0mtopLosses\u001b[0m \u001b[1;33m=\u001b[0m \u001b[0mtrials\u001b[0m\u001b[1;33m.\u001b[0m\u001b[0mtakeOrdered\u001b[0m\u001b[1;33m(\u001b[0m\u001b[0mmax\u001b[0m\u001b[1;33m(\u001b[0m\u001b[0mround\u001b[0m\u001b[1;33m(\u001b[0m\u001b[0mnumTrials\u001b[0m\u001b[1;33m/\u001b[0m\u001b[1;36m20.0\u001b[0m\u001b[1;33m)\u001b[0m\u001b[1;33m,\u001b[0m \u001b[1;36m1\u001b[0m\u001b[1;33m)\u001b[0m\u001b[1;33m)\u001b[0m\u001b[1;33m\u001b[0m\u001b[0m\n\u001b[0;32m      4\u001b[0m     \u001b[1;32mreturn\u001b[0m \u001b[0mtopLosses\u001b[0m\u001b[1;33m[\u001b[0m\u001b[1;33m-\u001b[0m\u001b[1;36m1\u001b[0m\u001b[1;33m]\u001b[0m\u001b[1;33m\u001b[0m\u001b[0m\n\u001b[0;32m      5\u001b[0m \u001b[1;33m\u001b[0m\u001b[0m\n",
      "\u001b[1;32m/opt/spark/python/pyspark/rdd.py\u001b[0m in \u001b[0;36mcount\u001b[1;34m(self)\u001b[0m\n\u001b[0;32m   1004\u001b[0m         \u001b[1;36m3\u001b[0m\u001b[1;33m\u001b[0m\u001b[0m\n\u001b[0;32m   1005\u001b[0m         \"\"\"\n\u001b[1;32m-> 1006\u001b[1;33m         \u001b[1;32mreturn\u001b[0m \u001b[0mself\u001b[0m\u001b[1;33m.\u001b[0m\u001b[0mmapPartitions\u001b[0m\u001b[1;33m(\u001b[0m\u001b[1;32mlambda\u001b[0m \u001b[0mi\u001b[0m\u001b[1;33m:\u001b[0m \u001b[1;33m[\u001b[0m\u001b[0msum\u001b[0m\u001b[1;33m(\u001b[0m\u001b[1;36m1\u001b[0m \u001b[1;32mfor\u001b[0m \u001b[0m_\u001b[0m \u001b[1;32min\u001b[0m \u001b[0mi\u001b[0m\u001b[1;33m)\u001b[0m\u001b[1;33m]\u001b[0m\u001b[1;33m)\u001b[0m\u001b[1;33m.\u001b[0m\u001b[0msum\u001b[0m\u001b[1;33m(\u001b[0m\u001b[1;33m)\u001b[0m\u001b[1;33m\u001b[0m\u001b[0m\n\u001b[0m\u001b[0;32m   1007\u001b[0m \u001b[1;33m\u001b[0m\u001b[0m\n\u001b[0;32m   1008\u001b[0m     \u001b[1;32mdef\u001b[0m \u001b[0mstats\u001b[0m\u001b[1;33m(\u001b[0m\u001b[0mself\u001b[0m\u001b[1;33m)\u001b[0m\u001b[1;33m:\u001b[0m\u001b[1;33m\u001b[0m\u001b[0m\n",
      "\u001b[1;32m/opt/spark/python/pyspark/rdd.py\u001b[0m in \u001b[0;36msum\u001b[1;34m(self)\u001b[0m\n\u001b[0;32m    995\u001b[0m         \u001b[1;36m6.0\u001b[0m\u001b[1;33m\u001b[0m\u001b[0m\n\u001b[0;32m    996\u001b[0m         \"\"\"\n\u001b[1;32m--> 997\u001b[1;33m         \u001b[1;32mreturn\u001b[0m \u001b[0mself\u001b[0m\u001b[1;33m.\u001b[0m\u001b[0mmapPartitions\u001b[0m\u001b[1;33m(\u001b[0m\u001b[1;32mlambda\u001b[0m \u001b[0mx\u001b[0m\u001b[1;33m:\u001b[0m \u001b[1;33m[\u001b[0m\u001b[0msum\u001b[0m\u001b[1;33m(\u001b[0m\u001b[0mx\u001b[0m\u001b[1;33m)\u001b[0m\u001b[1;33m]\u001b[0m\u001b[1;33m)\u001b[0m\u001b[1;33m.\u001b[0m\u001b[0mfold\u001b[0m\u001b[1;33m(\u001b[0m\u001b[1;36m0\u001b[0m\u001b[1;33m,\u001b[0m \u001b[0moperator\u001b[0m\u001b[1;33m.\u001b[0m\u001b[0madd\u001b[0m\u001b[1;33m)\u001b[0m\u001b[1;33m\u001b[0m\u001b[0m\n\u001b[0m\u001b[0;32m    998\u001b[0m \u001b[1;33m\u001b[0m\u001b[0m\n\u001b[0;32m    999\u001b[0m     \u001b[1;32mdef\u001b[0m \u001b[0mcount\u001b[0m\u001b[1;33m(\u001b[0m\u001b[0mself\u001b[0m\u001b[1;33m)\u001b[0m\u001b[1;33m:\u001b[0m\u001b[1;33m\u001b[0m\u001b[0m\n",
      "\u001b[1;32m/opt/spark/python/pyspark/rdd.py\u001b[0m in \u001b[0;36mfold\u001b[1;34m(self, zeroValue, op)\u001b[0m\n\u001b[0;32m    869\u001b[0m         \u001b[1;31m# zeroValue provided to each partition is unique from the one provided\u001b[0m\u001b[1;33m\u001b[0m\u001b[1;33m\u001b[0m\u001b[0m\n\u001b[0;32m    870\u001b[0m         \u001b[1;31m# to the final reduce call\u001b[0m\u001b[1;33m\u001b[0m\u001b[1;33m\u001b[0m\u001b[0m\n\u001b[1;32m--> 871\u001b[1;33m         \u001b[0mvals\u001b[0m \u001b[1;33m=\u001b[0m \u001b[0mself\u001b[0m\u001b[1;33m.\u001b[0m\u001b[0mmapPartitions\u001b[0m\u001b[1;33m(\u001b[0m\u001b[0mfunc\u001b[0m\u001b[1;33m)\u001b[0m\u001b[1;33m.\u001b[0m\u001b[0mcollect\u001b[0m\u001b[1;33m(\u001b[0m\u001b[1;33m)\u001b[0m\u001b[1;33m\u001b[0m\u001b[0m\n\u001b[0m\u001b[0;32m    872\u001b[0m         \u001b[1;32mreturn\u001b[0m \u001b[0mreduce\u001b[0m\u001b[1;33m(\u001b[0m\u001b[0mop\u001b[0m\u001b[1;33m,\u001b[0m \u001b[0mvals\u001b[0m\u001b[1;33m,\u001b[0m \u001b[0mzeroValue\u001b[0m\u001b[1;33m)\u001b[0m\u001b[1;33m\u001b[0m\u001b[0m\n\u001b[0;32m    873\u001b[0m \u001b[1;33m\u001b[0m\u001b[0m\n",
      "\u001b[1;32m/opt/spark/python/pyspark/rdd.py\u001b[0m in \u001b[0;36mcollect\u001b[1;34m(self)\u001b[0m\n\u001b[0;32m    771\u001b[0m         \"\"\"\n\u001b[0;32m    772\u001b[0m         \u001b[1;32mwith\u001b[0m \u001b[0mSCCallSiteSync\u001b[0m\u001b[1;33m(\u001b[0m\u001b[0mself\u001b[0m\u001b[1;33m.\u001b[0m\u001b[0mcontext\u001b[0m\u001b[1;33m)\u001b[0m \u001b[1;32mas\u001b[0m \u001b[0mcss\u001b[0m\u001b[1;33m:\u001b[0m\u001b[1;33m\u001b[0m\u001b[0m\n\u001b[1;32m--> 773\u001b[1;33m             \u001b[0mport\u001b[0m \u001b[1;33m=\u001b[0m \u001b[0mself\u001b[0m\u001b[1;33m.\u001b[0m\u001b[0mctx\u001b[0m\u001b[1;33m.\u001b[0m\u001b[0m_jvm\u001b[0m\u001b[1;33m.\u001b[0m\u001b[0mPythonRDD\u001b[0m\u001b[1;33m.\u001b[0m\u001b[0mcollectAndServe\u001b[0m\u001b[1;33m(\u001b[0m\u001b[0mself\u001b[0m\u001b[1;33m.\u001b[0m\u001b[0m_jrdd\u001b[0m\u001b[1;33m.\u001b[0m\u001b[0mrdd\u001b[0m\u001b[1;33m(\u001b[0m\u001b[1;33m)\u001b[0m\u001b[1;33m)\u001b[0m\u001b[1;33m\u001b[0m\u001b[0m\n\u001b[0m\u001b[0;32m    774\u001b[0m         \u001b[1;32mreturn\u001b[0m \u001b[0mlist\u001b[0m\u001b[1;33m(\u001b[0m\u001b[0m_load_from_socket\u001b[0m\u001b[1;33m(\u001b[0m\u001b[0mport\u001b[0m\u001b[1;33m,\u001b[0m \u001b[0mself\u001b[0m\u001b[1;33m.\u001b[0m\u001b[0m_jrdd_deserializer\u001b[0m\u001b[1;33m)\u001b[0m\u001b[1;33m)\u001b[0m\u001b[1;33m\u001b[0m\u001b[0m\n\u001b[0;32m    775\u001b[0m \u001b[1;33m\u001b[0m\u001b[0m\n",
      "\u001b[1;32m/opt/spark/python/lib/py4j-0.8.2.1-src.zip/py4j/java_gateway.py\u001b[0m in \u001b[0;36m__call__\u001b[1;34m(self, *args)\u001b[0m\n\u001b[0;32m    536\u001b[0m         \u001b[0manswer\u001b[0m \u001b[1;33m=\u001b[0m \u001b[0mself\u001b[0m\u001b[1;33m.\u001b[0m\u001b[0mgateway_client\u001b[0m\u001b[1;33m.\u001b[0m\u001b[0msend_command\u001b[0m\u001b[1;33m(\u001b[0m\u001b[0mcommand\u001b[0m\u001b[1;33m)\u001b[0m\u001b[1;33m\u001b[0m\u001b[0m\n\u001b[0;32m    537\u001b[0m         return_value = get_return_value(answer, self.gateway_client,\n\u001b[1;32m--> 538\u001b[1;33m                 self.target_id, self.name)\n\u001b[0m\u001b[0;32m    539\u001b[0m \u001b[1;33m\u001b[0m\u001b[0m\n\u001b[0;32m    540\u001b[0m         \u001b[1;32mfor\u001b[0m \u001b[0mtemp_arg\u001b[0m \u001b[1;32min\u001b[0m \u001b[0mtemp_args\u001b[0m\u001b[1;33m:\u001b[0m\u001b[1;33m\u001b[0m\u001b[0m\n",
      "\u001b[1;32m/opt/spark/python/lib/py4j-0.8.2.1-src.zip/py4j/protocol.py\u001b[0m in \u001b[0;36mget_return_value\u001b[1;34m(answer, gateway_client, target_id, name)\u001b[0m\n\u001b[0;32m    298\u001b[0m                 raise Py4JJavaError(\n\u001b[0;32m    299\u001b[0m                     \u001b[1;34m'An error occurred while calling {0}{1}{2}.\\n'\u001b[0m\u001b[1;33m.\u001b[0m\u001b[1;33m\u001b[0m\u001b[0m\n\u001b[1;32m--> 300\u001b[1;33m                     format(target_id, '.', name), value)\n\u001b[0m\u001b[0;32m    301\u001b[0m             \u001b[1;32melse\u001b[0m\u001b[1;33m:\u001b[0m\u001b[1;33m\u001b[0m\u001b[0m\n\u001b[0;32m    302\u001b[0m                 raise Py4JError(\n",
      "\u001b[1;31mPy4JJavaError\u001b[0m: An error occurred while calling z:org.apache.spark.api.python.PythonRDD.collectAndServe.\n: org.apache.spark.SparkException: Job aborted due to stage failure: Task 0 in stage 2831.0 failed 4 times, most recent failure: Lost task 0.3 in stage 2831.0 (TID 34237, spark-worker1-aml-lab-group16-prod-zoe.group16-prod-zoe): org.apache.spark.api.python.PythonException: Traceback (most recent call last):\n  File \"/opt/spark/python/lib/pyspark.zip/pyspark/worker.py\", line 111, in main\n    process()\n  File \"/opt/spark/python/lib/pyspark.zip/pyspark/worker.py\", line 106, in process\n    serializer.dump_stream(func(split_index, iterator), outfile)\n  File \"/opt/spark/python/lib/pyspark.zip/pyspark/serializers.py\", line 263, in dump_stream\n    vs = list(itertools.islice(iterator, batch))\n  File \"<ipython-input-236-344d8dcd636e>\", line 4, in <lambda>\n  File \"<ipython-input-235-fd5afa75df32>\", line 5, in simulateTrialReturns_student\n  File \"<ipython-input-234-86406501b754>\", line 29, in multivariate_t\n  File \"mtrand.pyx\", line 4361, in mtrand.RandomState.multivariate_normal (numpy/random/mtrand/mtrand.c:28359)\nValueError: cov must be 2 dimensional and square\n\n\tat org.apache.spark.api.python.PythonRunner$$anon$1.read(PythonRDD.scala:166)\n\tat org.apache.spark.api.python.PythonRunner$$anon$1.<init>(PythonRDD.scala:207)\n\tat org.apache.spark.api.python.PythonRunner.compute(PythonRDD.scala:125)\n\tat org.apache.spark.api.python.PythonRDD.compute(PythonRDD.scala:70)\n\tat org.apache.spark.rdd.RDD.computeOrReadCheckpoint(RDD.scala:300)\n\tat org.apache.spark.CacheManager.getOrCompute(CacheManager.scala:69)\n\tat org.apache.spark.rdd.RDD.iterator(RDD.scala:262)\n\tat org.apache.spark.api.python.PythonRDD.compute(PythonRDD.scala:70)\n\tat org.apache.spark.rdd.RDD.computeOrReadCheckpoint(RDD.scala:300)\n\tat org.apache.spark.rdd.RDD.iterator(RDD.scala:264)\n\tat org.apache.spark.scheduler.ResultTask.runTask(ResultTask.scala:66)\n\tat org.apache.spark.scheduler.Task.run(Task.scala:88)\n\tat org.apache.spark.executor.Executor$TaskRunner.run(Executor.scala:214)\n\tat java.util.concurrent.ThreadPoolExecutor.runWorker(ThreadPoolExecutor.java:1145)\n\tat java.util.concurrent.ThreadPoolExecutor$Worker.run(ThreadPoolExecutor.java:615)\n\tat java.lang.Thread.run(Thread.java:745)\n\nDriver stacktrace:\n\tat org.apache.spark.scheduler.DAGScheduler.org$apache$spark$scheduler$DAGScheduler$$failJobAndIndependentStages(DAGScheduler.scala:1283)\n\tat org.apache.spark.scheduler.DAGScheduler$$anonfun$abortStage$1.apply(DAGScheduler.scala:1271)\n\tat org.apache.spark.scheduler.DAGScheduler$$anonfun$abortStage$1.apply(DAGScheduler.scala:1270)\n\tat scala.collection.mutable.ResizableArray$class.foreach(ResizableArray.scala:59)\n\tat scala.collection.mutable.ArrayBuffer.foreach(ArrayBuffer.scala:47)\n\tat org.apache.spark.scheduler.DAGScheduler.abortStage(DAGScheduler.scala:1270)\n\tat org.apache.spark.scheduler.DAGScheduler$$anonfun$handleTaskSetFailed$1.apply(DAGScheduler.scala:697)\n\tat org.apache.spark.scheduler.DAGScheduler$$anonfun$handleTaskSetFailed$1.apply(DAGScheduler.scala:697)\n\tat scala.Option.foreach(Option.scala:236)\n\tat org.apache.spark.scheduler.DAGScheduler.handleTaskSetFailed(DAGScheduler.scala:697)\n\tat org.apache.spark.scheduler.DAGSchedulerEventProcessLoop.doOnReceive(DAGScheduler.scala:1496)\n\tat org.apache.spark.scheduler.DAGSchedulerEventProcessLoop.onReceive(DAGScheduler.scala:1458)\n\tat org.apache.spark.scheduler.DAGSchedulerEventProcessLoop.onReceive(DAGScheduler.scala:1447)\n\tat org.apache.spark.util.EventLoop$$anon$1.run(EventLoop.scala:48)\n\tat org.apache.spark.scheduler.DAGScheduler.runJob(DAGScheduler.scala:567)\n\tat org.apache.spark.SparkContext.runJob(SparkContext.scala:1824)\n\tat org.apache.spark.SparkContext.runJob(SparkContext.scala:1837)\n\tat org.apache.spark.SparkContext.runJob(SparkContext.scala:1850)\n\tat org.apache.spark.SparkContext.runJob(SparkContext.scala:1921)\n\tat org.apache.spark.rdd.RDD$$anonfun$collect$1.apply(RDD.scala:909)\n\tat org.apache.spark.rdd.RDDOperationScope$.withScope(RDDOperationScope.scala:147)\n\tat org.apache.spark.rdd.RDDOperationScope$.withScope(RDDOperationScope.scala:108)\n\tat org.apache.spark.rdd.RDD.withScope(RDD.scala:310)\n\tat org.apache.spark.rdd.RDD.collect(RDD.scala:908)\n\tat org.apache.spark.api.python.PythonRDD$.collectAndServe(PythonRDD.scala:405)\n\tat org.apache.spark.api.python.PythonRDD.collectAndServe(PythonRDD.scala)\n\tat sun.reflect.GeneratedMethodAccessor37.invoke(Unknown Source)\n\tat sun.reflect.DelegatingMethodAccessorImpl.invoke(DelegatingMethodAccessorImpl.java:43)\n\tat java.lang.reflect.Method.invoke(Method.java:606)\n\tat py4j.reflection.MethodInvoker.invoke(MethodInvoker.java:231)\n\tat py4j.reflection.ReflectionEngine.invoke(ReflectionEngine.java:379)\n\tat py4j.Gateway.invoke(Gateway.java:259)\n\tat py4j.commands.AbstractCommand.invokeMethod(AbstractCommand.java:133)\n\tat py4j.commands.CallCommand.execute(CallCommand.java:79)\n\tat py4j.GatewayConnection.run(GatewayConnection.java:207)\n\tat java.lang.Thread.run(Thread.java:745)\nCaused by: org.apache.spark.api.python.PythonException: Traceback (most recent call last):\n  File \"/opt/spark/python/lib/pyspark.zip/pyspark/worker.py\", line 111, in main\n    process()\n  File \"/opt/spark/python/lib/pyspark.zip/pyspark/worker.py\", line 106, in process\n    serializer.dump_stream(func(split_index, iterator), outfile)\n  File \"/opt/spark/python/lib/pyspark.zip/pyspark/serializers.py\", line 263, in dump_stream\n    vs = list(itertools.islice(iterator, batch))\n  File \"<ipython-input-236-344d8dcd636e>\", line 4, in <lambda>\n  File \"<ipython-input-235-fd5afa75df32>\", line 5, in simulateTrialReturns_student\n  File \"<ipython-input-234-86406501b754>\", line 29, in multivariate_t\n  File \"mtrand.pyx\", line 4361, in mtrand.RandomState.multivariate_normal (numpy/random/mtrand/mtrand.c:28359)\nValueError: cov must be 2 dimensional and square\n\n\tat org.apache.spark.api.python.PythonRunner$$anon$1.read(PythonRDD.scala:166)\n\tat org.apache.spark.api.python.PythonRunner$$anon$1.<init>(PythonRDD.scala:207)\n\tat org.apache.spark.api.python.PythonRunner.compute(PythonRDD.scala:125)\n\tat org.apache.spark.api.python.PythonRDD.compute(PythonRDD.scala:70)\n\tat org.apache.spark.rdd.RDD.computeOrReadCheckpoint(RDD.scala:300)\n\tat org.apache.spark.CacheManager.getOrCompute(CacheManager.scala:69)\n\tat org.apache.spark.rdd.RDD.iterator(RDD.scala:262)\n\tat org.apache.spark.api.python.PythonRDD.compute(PythonRDD.scala:70)\n\tat org.apache.spark.rdd.RDD.computeOrReadCheckpoint(RDD.scala:300)\n\tat org.apache.spark.rdd.RDD.iterator(RDD.scala:264)\n\tat org.apache.spark.scheduler.ResultTask.runTask(ResultTask.scala:66)\n\tat org.apache.spark.scheduler.Task.run(Task.scala:88)\n\tat org.apache.spark.executor.Executor$TaskRunner.run(Executor.scala:214)\n\tat java.util.concurrent.ThreadPoolExecutor.runWorker(ThreadPoolExecutor.java:1145)\n\tat java.util.concurrent.ThreadPoolExecutor$Worker.run(ThreadPoolExecutor.java:615)\n\t... 1 more\n"
     ]
    }
   ],
   "source": [
    "trials = seedRDD.flatMap(lambda idx: \\\n",
    "                simulateTrialReturns_student(\n",
    "                    max(int(numTrials/parallelism), 1), \n",
    "                    factorMeans, factorDev,\n",
    "                    bFactorWeights.value\n",
    "                ))\n",
    "trials.cache()\n",
    "valueAtRisk = fivePercentVaR(trials)\n",
    "conditionalValueAtRisk = fivePercentCVaR(trials)\n",
    "print(\"Value at Risk(VaR) 5%:\", valueAtRisk)\n",
    "print(\"Conditional Value at Risk(CVaR) 5%:\", conditionalValueAtRisk)"
   ]
  },
  {
   "cell_type": "markdown",
   "metadata": {},
   "source": [
    "## Going further"
   ]
  },
  {
   "cell_type": "markdown",
   "metadata": {},
   "source": [
    "<b>Important note: As this part needed some extra libraries to run, we add the code here without running it. Our results can be found in the separate html file.<b>"
   ]
  },
  {
   "cell_type": "markdown",
   "metadata": {},
   "source": [
    "Now, let's go further by grabbing more information about a given company.\n",
    "We think it will be a good idea to grab the similar companies to a given one and the headlines of the articles on this given company as well. This can be done thanks to the http://finance.yahoo.com/ website which displays this information for each company.\n",
    "Let's first start by defining a class, Yahoo_Finance_Scraper, to handle the retrieval of the information."
   ]
  },
  {
   "cell_type": "code",
   "execution_count": null,
   "metadata": {
    "collapsed": true
   },
   "outputs": [],
   "source": [
    "from datetime import date, timedelta\n",
    "from urllib import urlencode, urlopen\n",
    "from urlparse import urlparse, urlunparse, parse_qs\n",
    "from bs4 import BeautifulSoup\n",
    "import urllib2\n",
    "import json\n",
    "\n",
    "from pprint import pprint\n",
    "\n",
    "class Yahoo_Finance_Scraper():\n",
    "    def __init__(self, symbol):\n",
    "        self.yahooFinanceLink = 'http://finance.yahoo.com'\n",
    "        self.symbol = symbol\n",
    "    \n",
    "    def getSource(self, html):\n",
    "        return BeautifulSoup(html)\n",
    "    \n",
    "    def getRelatedCompanies(self):\n",
    "        url = self.getCompanyUrl()\n",
    "        html = urllib2.urlopen(url).read()\n",
    "        bsPage = self.getSource(html)\n",
    "        return self.getRelatedCompaniesFrom(bsPage)\n",
    "        \n",
    "    def getCompanyUrl(self):\n",
    "        return self.yahooFinanceLink + '/q?s=' + self.symbol\n",
    "\n",
    "    def getRelatedCompaniesFrom(self, bsPage):\n",
    "        companies = []\n",
    "        rows = bsPage.find(id='yfi_comparison').table.tbody.find_all('tr')\n",
    "        \n",
    "        for row in rows[1:]: # The first one is the current one\n",
    "            companies.append(row.td.a.string)\n",
    "        return companies\n",
    "\n",
    "    def getArticles(self, from_, to_=None):\n",
    "        if to_ == None:\n",
    "            return self.getArticlesFromUrl(self.getArticlesPageUrlOf(from_))\n",
    "\n",
    "        from_year, from_month, from_day = from_.split('-')\n",
    "        to_year, to_month, to_day = to_.split('-')\n",
    "\n",
    "        fdate = date(int(from_year), int(from_month), int(from_day))\n",
    "        tdate = date(int(to_year), int(to_month), int(to_day))\n",
    "\n",
    "        if(fdate > tdate):\n",
    "            raise ValueError('To date is older than the from date')\n",
    "\n",
    "        articles = []\n",
    "        for i in range((tdate - fdate).days):\n",
    "            articles += self.getArticlesFromUrl(self.getArticlesPageUrlOf(self.formatDate(fdate)))\n",
    "            fdate += timedelta(days=1)\n",
    "\n",
    "        return articles + self.getArticlesFromUrl(self.getArticlesPageUrlOf(to_))\n",
    "\n",
    "    def formatDate(self, date):\n",
    "        return date.isoformat()\n",
    "\n",
    "    def getArticlesPageUrlOf(self, isoformatedDate=None):\n",
    "        if isoformatedDate:\n",
    "            return self.yahooFinanceLink + '/q/h?s=' + self.symbol + '&t=' + isoformatedDate\n",
    "        return self.yahooFinanceLink + '/q/h?s=' + self.symbol + '&t=' + date.today().isoformat()\n",
    "\n",
    "    def getArticlesFromUrl(self, url):\n",
    "        query = dict(parse_qs(urlparse(url).query))\n",
    "        months = ['January', 'February', 'March', 'April', 'May', 'June', 'July', \\\n",
    "                  'September', 'October', 'November', 'December']\n",
    "        \n",
    "        html = urllib2.urlopen(url).read()\n",
    "        bsPage = self.getSource(html)\n",
    "\n",
    "        articles = [] # Tuples with date and list of titles and links\n",
    "        \n",
    "        content = bsPage.find(id='yfncsumtab').find_all('div', class_='yfi_quote_headline')[0]\n",
    "        dates = content.find_all('h3')\n",
    "        links = content.find_all('ul')[1:]\n",
    "\n",
    "        for i in range(len(dates)):\n",
    "            weekday, monthAndDay, year = dates[i].span.string.split(', ')\n",
    "            month, day = monthAndDay.split()\n",
    "            monthIx = months.index(month) + 1\n",
    "            d = self.formatDate(date(int(year), monthIx, int(day)))\n",
    "            \n",
    "            if d == query['t'][0]: # We only want the articles for the given date\n",
    "                headlines = links[i].find_all('li')\n",
    "                hdls = []\n",
    "                \n",
    "                for headline in headlines:\n",
    "                    text = headline.a.string\n",
    "                    href = headline.a['href']\n",
    "                    hdls.append((text, href))\n",
    "                articles.append((d, hdls))\n",
    "                break\n",
    "            \n",
    "        return articles # size 1"
   ]
  },
  {
   "cell_type": "markdown",
   "metadata": {},
   "source": [
    "Good, now let's try it out to see if everything is working fine."
   ]
  },
  {
   "cell_type": "code",
   "execution_count": null,
   "metadata": {
    "collapsed": true
   },
   "outputs": [],
   "source": [
    "scraper = Yahoo_Finance_Scraper('FB')\n",
    "similarCompanies = scraper.getRelatedCompanies()\n",
    "print 'Similar companies:', \", \".join(similarCompanies)\n",
    "print ''\n",
    "\n",
    "date_begin, date_end = '2016-01-22', '2016-03-22'\n",
    "articles = scraper.getArticles(date_begin, date_end)\n",
    "print 'Headlines:'\n",
    "pprint(articles[:2])"
   ]
  },
  {
   "cell_type": "markdown",
   "metadata": {},
   "source": [
    "Let's define a couple of functions in order to know if a given day is a work day or not (useful as the stock markets is closed during weekends), the change rate of a stock over a period of time (can be a day for example: value at opening and closing) and finally to serialize and unserialize a given object to save it for fruther analysis."
   ]
  },
  {
   "cell_type": "code",
   "execution_count": null,
   "metadata": {
    "collapsed": true
   },
   "outputs": [],
   "source": [
    "def isWorkDay(dt):\n",
    "    year, month, day = dt.split('-')\n",
    "    d = date(int(year), int(month), int(day))\n",
    "    if d.weekday() < 5:\n",
    "        return True\n",
    "    return False\n",
    "\n",
    "def chgOver(begin, end):\n",
    "    return (end - begin) / begin\n",
    "\n",
    "def saveData(data, f):\n",
    "    with open(f, 'w') as out:\n",
    "        json.dump(data, out)\n",
    "    \n",
    "def retrieveData(f):\n",
    "    with open(f) as data:    \n",
    "        return json.load(data)"
   ]
  },
  {
   "cell_type": "markdown",
   "metadata": {},
   "source": [
    "Let's use the saveData function defined above to save the article headlines we just retrieved."
   ]
  },
  {
   "cell_type": "code",
   "execution_count": null,
   "metadata": {
    "collapsed": true
   },
   "outputs": [],
   "source": [
    "saveData(articles, 'articles_2016-01-22_2016-03-22.json')"
   ]
  },
  {
   "cell_type": "markdown",
   "metadata": {},
   "source": [
    "### Correlation between similar companies"
   ]
  },
  {
   "cell_type": "markdown",
   "metadata": {},
   "source": [
    "Let's have the look to the correlation between the variation of the stock values of similar companies. To retrieve the stock values we are interested in, we use yahoo_fiance, a python module to get stock data from Yahoo! Finance (https://github.com/lukaszbanasiak/yahoo-finance)."
   ]
  },
  {
   "cell_type": "code",
   "execution_count": null,
   "metadata": {
    "collapsed": true
   },
   "outputs": [],
   "source": [
    "from yahoo_finance import Share\n",
    "\n",
    "def getClosingValues(symbol, date_begin, date_end):\n",
    "    company = Share(symbol)\n",
    "    # We retrieve the stock values for the period we are interested in\n",
    "    stocks = list(reversed(company.get_historical(date_begin, date_end)))\n",
    "    return [float(x['Adj_Close']) for x in stocks]\n",
    "\n",
    "def getStocksFor(symbol, similarCompanies, date_begin, date_end):\n",
    "    stocks = []\n",
    "    stocks.append(getClosingValues(symbol, date_begin, date_end))\n",
    "    for sC in similarCompanies:\n",
    "        stocks.append(getClosingValues(sC, date_begin, date_end))\n",
    "    return stocks\n",
    "    \n",
    "stocks = getStocksFor('FB', similarCompanies, date_begin, date_end)"
   ]
  },
  {
   "cell_type": "code",
   "execution_count": null,
   "metadata": {
    "collapsed": true
   },
   "outputs": [],
   "source": [
    "import numpy as np\n",
    "print 'FB,', \", \".join(similarCompanies)\n",
    "print numpy.corrcoef(stocks)"
   ]
  },
  {
   "cell_type": "markdown",
   "metadata": {},
   "source": [
    "Thanks to this correlation matrix we see that the Facebook stock variations are closer to the ones of Microsoft that the ones of Twitter, which is not obvious at the first sight. Therefore it could be interesting to follow the variations in the Microsoft stock values if we are interested in the Facebook ones."
   ]
  },
  {
   "cell_type": "markdown",
   "metadata": {},
   "source": [
    "### Analysis of the impact of the headlines on the variation of the stock values"
   ]
  },
  {
   "cell_type": "markdown",
   "metadata": {},
   "source": [
    "Now let's perform some analysis over the headlines that we previously retrieved. We are interested in analysing the impact of headlines on related stock value in the 3 days following their publication.\n",
    "\n",
    "<b>Note</b>: We think that a retrieval of the completed articles would be more efficient than just analyzing the headlines, however as each website doesn't have the same structure it is difficult to build an efficient scraper that will get only the content we are intersting in and discard the related articles or content displayed on the website. Rather that building a different scraper for each website we think that a smarter approach will be to implement a website able to understand the structure of a web page based of visual clues. A description of such system can be found here: http://citeseerx.ist.psu.edu/viewdoc/download?doi=10.1.1.85.3169&rep=rep1&type=pdf [Extracting Content Structure for Web Pages based on Visual Representation]."
   ]
  },
  {
   "cell_type": "markdown",
   "metadata": {},
   "source": [
    "First, let's define a function that stack all the headlines for each day in order to have a paragraph by work day (by convenience we stack the headlines of the weekend with the following Monday).\n",
    "\n",
    "Like that we can modelise our training and test sets as follow: by work day we have a paragraph and the corresponding variation of the stock value for a given window of time (the one given by the chgOver function)."
   ]
  },
  {
   "cell_type": "code",
   "execution_count": null,
   "metadata": {
    "collapsed": true
   },
   "outputs": [],
   "source": [
    "def stackHeadlines(articles):\n",
    "    stack = []\n",
    "    text = \"\"\n",
    "    for d, headlines in articles:\n",
    "        if isWorkDay(d):\n",
    "            stack.append((d, \". \".join([headline[0] for headline in headlines]) + text))\n",
    "            text = \"\"\n",
    "        else:\n",
    "            text += \". \" + \". \".join([headline[0] for headline in headlines])\n",
    "    return stack\n",
    "\n",
    "def buildSet(stack, closings, window):\n",
    "    stockSet = []\n",
    "    i = 0\n",
    "    for d, paragraph in stack:\n",
    "        stockSet.append((d, paragraph, chgOver(closings[i], closings[i + window])))\n",
    "        i += 1\n",
    "        if i + window >= len(closings): # Our data set will be 'window' length shorter than the original dataset\n",
    "            break          \n",
    "    return stockSet\n",
    "\n",
    "closings = stocks[0]\n",
    "\n",
    "# And now the can build on training and test sets\n",
    "stack = stackHeadlines(articles)\n",
    "stockSet = buildSet(stack, closings, 3)\n",
    "\n",
    "# We display a part of it to see the result\n",
    "print 'Dataset length:', len(stockSet)\n",
    "pprint(stockSet[2:5])"
   ]
  },
  {
   "cell_type": "markdown",
   "metadata": {},
   "source": [
    "Now we will be put in place our approach to predict variation (for the window of time that we previously defined) given a paragraph of headlines. \n",
    "We will first convert every paragraph into a vector thanks to the Gensim python library (https://radimrehurek.com/gensim/index.html) after removing the stop words and stem them thanks to the Natural Language Toolkit: http://www.nltk.org/.\n",
    "\n",
    "<b>Note</b>: GloVe, Global Vectors for Word Representation, is an unsupervised learning algorithm wich can be used as well for obtaining vector representations for words (http://nlp.stanford.edu/projects/glove/)."
   ]
  },
  {
   "cell_type": "code",
   "execution_count": null,
   "metadata": {
    "collapsed": true
   },
   "outputs": [],
   "source": [
    "import nltk\n",
    "from nltk.corpus import stopwords\n",
    "from nltk.stem.snowball import SnowballStemmer\n",
    "\n",
    "from gensim import corpora, models, similarities\n",
    "\n",
    "def filterStockSet(stockSet):\n",
    "    # We assume that the paragraph is in english\n",
    "    stemmer = SnowballStemmer(\"english\")\n",
    "    stop_words = set(stopwords.words('english'))\n",
    "    def filterParagraph(paragraph):\n",
    "        filtered_paragraph = [stemmer.stem(w) for w in paragraph.lower().split() if not w in stop_words]\n",
    "        return filtered_paragraph\n",
    "    return [(d, filterParagraph(p), v) for d, p, v in stockSet]\n",
    "\n",
    "filteredStocks = filterStockSet(stockSet)\n",
    "hds = [t for d, t, v in filteredStocks]\n",
    "wordsToIx = corpora.Dictionary(hds)\n",
    "\n",
    "# We divide the dataset to measure the accuracy of the approach afterwards\n",
    "splitIx = int(round(len(filteredStocks) * 0.7, 0))\n",
    "corpus = [wordsToIx.doc2bow(hd) for hd in hds[:splitIx]]\n",
    "\n",
    "print(wordsToIx)\n",
    "#print(wordsToIx.token2id) # Display the unique integer id to the each word appearing in the corpus\n",
    "print\n",
    "\n",
    "print('Sample of the vectors created:')\n",
    "print(corpus[:2])"
   ]
  },
  {
   "cell_type": "markdown",
   "metadata": {},
   "source": [
    "We then used Tf-Idf, a simple transformation which takes documents represented as bag-of-words counts (here our corpus) and applies a weighting which discounts common terms (or, equivalently, promotes rare terms). It also scales the resulting vector to unit length (Euclidean norm).\n",
    "Once we have transformed the whole corpus via TfIdf and index it, we can query the similarity of our test vectors against every document in the corpus and see with one is the best match."
   ]
  },
  {
   "cell_type": "code",
   "execution_count": null,
   "metadata": {
    "collapsed": true
   },
   "outputs": [],
   "source": [
    "tfidf = models.TfidfModel(corpus)\n",
    "index = similarities.SparseMatrixSimilarity(tfidf[corpus], num_features=len(wordsToIx))\n",
    "\n",
    "vecs = [wordsToIx.doc2bow(hd) for hd in hds[splitIx:]]\n",
    "\n",
    "target_values, guess_values, weigted_guess_values = [], [], []\n",
    "for i, vec in enumerate(vecs):\n",
    "    sims = index[tfidf[vec]]\n",
    "    best, ix = max((v,j) for j,v in enumerate(sims))\n",
    "    target_values.append(filteredStocks[splitIx + i][2])\n",
    "    guess_values.append(filteredStocks[ix][2])\n",
    "    #weights = [val / sum(sims) for val in sims]\n",
    "    #values = [filteredStocks[i][2] for i in range(len(filteredStocks[:splitIx]))]\n",
    "    #weigted_guess_values.append(sum([w*v for v, w in zip(values, weights)]) / len(weights)) # To try, too close to 0\n",
    "    #weigted_guess_values.append(filteredStocks[ix][2] * weight[ix]) # To try, too close to 0\n",
    "    weigted_guess_values.append(filteredStocks[ix][2] * best)\n",
    "\n",
    "import matplotlib.pyplot as plt\n",
    "%pylab inline\n",
    "plt.figure(figsize=(12, 8))\n",
    "plt.plot(target_values, 'b', label=\"Target values\")\n",
    "plt.plot(guess_values, 'r', label=\"Guess values\")\n",
    "plt.plot(weigted_guess_values, 'g', label=\"Weigted guess values\")\n",
    "plt.legend(loc='best')\n",
    "\n",
    "# Plot the data\n",
    "plt.title('Variation of the FB stock (window of 3 days)')\n",
    "plt.ylabel('Variation')\n",
    "plt.xlabel('Time')\n",
    "plt.xticks(range(len(filteredStocks) - splitIx), [d for d, t, v in filteredStocks[splitIx:]], rotation=45)\n",
    "plt.grid(True)\n",
    "plt.show()"
   ]
  },
  {
   "cell_type": "markdown",
   "metadata": {},
   "source": [
    "We used a two months dataset (from 22, January 2016 to 22, March 2016) that we divided in order to keep a test set of approximately 30% of the total dataset. In the graph above we can see our results on this test set, in blue it's the target variation values, in red it's the guess values where we took directly the variation value of the best match and in green it's the weighted variation value: the variation value of the best match weighted by the similarity score.\n",
    "\n",
    "As we can see our weighted model is more accurate than our best match model but has a tendency to stay too close to 0, it could be intresting to run this approach with a bigger dataset to see if it's improving the predictions."
   ]
  },
  {
   "cell_type": "markdown",
   "metadata": {},
   "source": [
    "Now let's go a bit further and perform some other analysis over our dataset thanks to the Sentiment Analysis API available in python: http://text-processing.com/docs/sentiment.html. First just a look on how the API is performing."
   ]
  },
  {
   "cell_type": "code",
   "execution_count": null,
   "metadata": {
    "collapsed": true
   },
   "outputs": [],
   "source": [
    "# We just take 2 days to have an idea on how the Sentiment Analysis API is performing\n",
    "for d, headlines in articles[2:4]:\n",
    "    print d\n",
    "    for headline in headlines:\n",
    "        text = headline[0].encode('utf8')\n",
    "        print text\n",
    "        data = urlencode({\"text\": text})         \n",
    "        results = json.loads(urlopen(\"http://text-processing.com/api/sentiment/\", data).read())\n",
    "        print results\n",
    "    print ''"
   ]
  },
  {
   "cell_type": "markdown",
   "metadata": {},
   "source": [
    "Alright, the API gives us the probability of each label and if neutral is greater than 0.5 then the label will be neutral. Otherwise, the label will be pos or neg, whichever has the greater probability.\n",
    "\n",
    "Let's reduce the output to two classes: 'increase' or 'decrease' of the stock value. We will try two different approaches: one with weighted sentiment analysis by each headline and one sentiment analysis on the stacked headlines all together."
   ]
  },
  {
   "cell_type": "code",
   "execution_count": null,
   "metadata": {
    "collapsed": true
   },
   "outputs": [],
   "source": [
    "def weightedSentiment(articles):\n",
    "    weightedSentiments = []\n",
    "    probabilities = {'neg': [], 'neutral': [], 'pos': []}\n",
    "    for d, headlines in articles:\n",
    "        for headline in headlines:\n",
    "            data = urlencode({\"text\": headline[0].encode('utf8')})         \n",
    "            results = json.loads(urlopen(\"http://text-processing.com/api/sentiment/\", data).read())\n",
    "            probabilities['neg'].append(results['probability']['neg'])\n",
    "            probabilities['neutral'].append(results['probability']['neutral'])\n",
    "            probabilities['pos'].append(results['probability']['pos'])\n",
    "        if isWorkDay(d):\n",
    "            tup = (d, \n",
    "                   sum(probabilities['neg']) / len(probabilities['neg']), \n",
    "                   sum(probabilities['neutral']) / len(probabilities['neutral']), \n",
    "                   sum(probabilities['pos']) / len(probabilities['pos'])\n",
    "                  )\n",
    "            weightedSentiments.append(tup)\n",
    "            probabilities = {'neg': [], 'neutral': [], 'pos': []}\n",
    "    return weightedSentiments\n",
    "\n",
    "def stackedSentiment(articles):\n",
    "    stacks = stackHeadlines(articles)\n",
    "    stackedSentiments = []\n",
    "    for d, stack in stacks:\n",
    "        data = urlencode({\"text\": stack.encode('utf-8')})         \n",
    "        results = json.loads(urlopen(\"http://text-processing.com/api/sentiment/\", data).read())\n",
    "        tup = (d, \n",
    "               results['probability']['neg'], \n",
    "               results['probability']['neutral'], \n",
    "               results['probability']['pos']\n",
    "              )\n",
    "        stackedSentiments.append(tup)\n",
    "    return stackedSentiments\n",
    "\n",
    "def buildSentimentSet(sentiments, closings, window):\n",
    "    stockSet = []\n",
    "    i = 0\n",
    "    for d, neg, neutral, pos in sentiments:\n",
    "        stockSet.append((d, neg, neutral, pos, \n",
    "                         'increase' if chgOver(closings[i], closings[i + window]) > 0 else 'decrease'))\n",
    "        i += 1\n",
    "        if i + window >= len(closings): # Our data set will be 'window' length shorter than the original dataset\n",
    "            break          \n",
    "    return stockSet\n",
    "    \n",
    "weightedSentimentSet = buildSentimentSet(weightedSentiment(articles), closings, 3)\n",
    "stackedSentimentSet = buildSentimentSet(stackedSentiment(articles), closings, 3)"
   ]
  },
  {
   "cell_type": "code",
   "execution_count": null,
   "metadata": {
    "collapsed": true
   },
   "outputs": [],
   "source": [
    "saveData(weightedSentimentSet, 'weightedSentimentSet_2016-01-22_2016-03-22.json')\n",
    "saveData(stackedSentimentSet, 'stackedSentimentSet_2016-01-22_2016-03-22.json')"
   ]
  },
  {
   "cell_type": "markdown",
   "metadata": {},
   "source": [
    "Let's now have the look at the two datasets in order to see if we can easily make the disctinction between the two classes."
   ]
  },
  {
   "cell_type": "code",
   "execution_count": null,
   "metadata": {
    "collapsed": true
   },
   "outputs": [],
   "source": [
    "from mpl_toolkits.mplot3d import Axes3D\n",
    "\n",
    "# weightedSentimentSet\n",
    "fig = plt.figure(figsize=(10, 7))\n",
    "fig.suptitle('Weighted Sentiment Set', fontsize=16)\n",
    "ax = fig.add_subplot(111, projection='3d')\n",
    "\n",
    "increase_neg = [neg for d, neg, neutral, pos, label in weightedSentimentSet if label == 'increase']\n",
    "increase_neutral = [neutral for d, neg, neutral, pos, label in weightedSentimentSet if label == 'increase']\n",
    "increase_pos = [pos for d, neg, neutral, pos, label in weightedSentimentSet if label == 'increase']\n",
    "\n",
    "decrease_neg = [neg for d, neg, neutral, pos, label in weightedSentimentSet if label == 'decrease']\n",
    "decrease_neutral = [neutral for d, neg, neutral, pos, label in weightedSentimentSet if label == 'decrease']\n",
    "decrease_pos = [pos for d, neg, neutral, pos, label in weightedSentimentSet if label == 'decrease']\n",
    "\n",
    "ax.scatter(increase_neg, increase_neutral, increase_pos, c='b', marker=\"s\", label='Increase')\n",
    "ax.scatter(decrease_neg, decrease_neutral, decrease_pos, c='r', marker=\"o\", label='Decrease')\n",
    "\n",
    "ax.set_xlabel('Neg')\n",
    "ax.set_ylabel('Neutral')\n",
    "ax.set_zlabel('Pos')\n",
    "\n",
    "plt.legend(loc='best');\n",
    "plt.show()\n",
    "\n",
    "plt.figure(figsize=(15, 6))\n",
    "plt.subplot(131)\n",
    "plt.plot(increase_neg, increase_neutral, 'b+')\n",
    "plt.plot(decrease_neg, decrease_neutral, 'r+')\n",
    "plt.xlabel('Neg')\n",
    "plt.ylabel('Neutral')\n",
    "\n",
    "plt.subplot(132)\n",
    "plt.plot(increase_pos, increase_neutral, 'b+')\n",
    "plt.plot(decrease_pos, decrease_neutral, 'r+')\n",
    "plt.xlabel('Pos')\n",
    "plt.ylabel('Neutral')\n",
    "\n",
    "plt.subplot(133)\n",
    "plt.plot(increase_neg, increase_pos, 'b+')\n",
    "plt.plot(decrease_neg, decrease_pos, 'r+')\n",
    "plt.xlabel('Neg')\n",
    "plt.ylabel('Pos')"
   ]
  },
  {
   "cell_type": "code",
   "execution_count": null,
   "metadata": {
    "collapsed": true
   },
   "outputs": [],
   "source": [
    "fig = plt.figure(figsize=(10, 7))\n",
    "fig.suptitle('Stacked Sentiment Set', fontsize=16)\n",
    "ax = fig.add_subplot(111, projection='3d')\n",
    "\n",
    "# stackedSentimentSet\n",
    "increase_neg = [neg for d, neg, neutral, pos, label in stackedSentimentSet if label == 'increase']\n",
    "increase_neutral = [neutral for d, neg, neutral, pos, label in stackedSentimentSet if label == 'increase']\n",
    "increase_pos = [pos for d, neg, neutral, pos, label in stackedSentimentSet if label == 'increase']\n",
    "\n",
    "decrease_neg = [neg for d, neg, neutral, pos, label in stackedSentimentSet if label == 'decrease']\n",
    "decrease_neutral = [neutral for d, neg, neutral, pos, label in stackedSentimentSet if label == 'decrease']\n",
    "decrease_pos = [pos for d, neg, neutral, pos, label in stackedSentimentSet if label == 'decrease']\n",
    "\n",
    "ax.scatter(increase_neg, increase_neutral, increase_pos, c='b', marker=\"s\", label='Increase')\n",
    "ax.scatter(decrease_neg, decrease_neutral, decrease_pos, c='r', marker=\"o\", label='Decrease')\n",
    "\n",
    "ax.set_xlabel('Neg')\n",
    "ax.set_ylabel('Neutral')\n",
    "ax.set_zlabel('Pos')\n",
    "\n",
    "plt.legend(loc='best');\n",
    "plt.show()\n",
    "\n",
    "plt.figure(figsize=(15, 6))\n",
    "plt.subplot(131)\n",
    "plt.plot(increase_neg, increase_neutral, 'b+')\n",
    "plt.plot(decrease_neg, decrease_neutral, 'r+')\n",
    "plt.xlabel('Neg')\n",
    "plt.ylabel('Neutral')\n",
    "\n",
    "plt.subplot(132)\n",
    "plt.plot(increase_pos, increase_neutral, 'b+')\n",
    "plt.plot(decrease_pos, decrease_neutral, 'r+')\n",
    "plt.xlabel('Pos')\n",
    "plt.ylabel('Neutral')\n",
    "\n",
    "plt.subplot(133)\n",
    "plt.plot(increase_neg, increase_pos, 'b+')\n",
    "plt.plot(decrease_neg, decrease_pos, 'r+')\n",
    "plt.xlabel('Neg')\n",
    "plt.ylabel('Pos')"
   ]
  },
  {
   "cell_type": "markdown",
   "metadata": {},
   "source": [
    "We can clearly see that there is a correlation between the 'pos' and 'neg' values (which is not really surprising as the two sentiments are opposed), thus we can use a Principal component analysis (PCA: http://scikit-learn.org/stable/modules/generated/sklearn.decomposition.PCA.html) to reduce the dimensionality of our dataset without losing information (the dataset will therefore contain less redundant information).\n",
    "\n",
    "But we can also clearly see that the two classes are not easily seperable therefore the use of a classification algorithm will be useless. Otherwise, in the case the classes would have been seperable, we could have used, for example, a SVM to find how to seperate the two classes and then classify the new entries (http://scikit-learn.org/stable/modules/svm.html)."
   ]
  },
  {
   "cell_type": "markdown",
   "metadata": {},
   "source": [
    "## What's next ?"
   ]
  },
  {
   "cell_type": "markdown",
   "metadata": {},
   "source": [
    "Through this analysis we saw that stock values can be impacted by very various elements. Some studies went even further.\n",
    "\n",
    "In 2006, psychologists Adam Alter and Daniel Oppenheimer from the university of Princeton tracked ten stocks with easy-to-pronounce names and ten stocks with hard-to-pronounce names on the New York Stock Exchange. The results presented in their paper 'Predicting short-term stock fluctuations by using processing fluency' available here: http://www.pnas.org/content/103/24/9369.abstract; reveals some very interesting trends. They found out that companies with easy-to-pronounce names outperformed companies with hard-to-pronouce names by 11.2 percent on their very first day of trading. After six months, the difference was more than 27 percent. After a year, it was more than 33 percent.\n",
    "But they didn't stop there, they also looked at companies ticker symbols. A review of share prices on the New York Stock Exchange and the American Stock Exchange showed that companies with easy-to-pronounce stock ticker code (such as KAR) outperformed companies with hard-to-pronounce ticker codes (such as RDO) by 8.5 percent on their first day of trading and by more than 2 percent after one year of trading.\n",
    "Alter and Oppenheimer found the pronounceability effect went away with time. Once inverstors learn about about the companies, they start basing decisions on more important things than name. But still, this study shows that the number of elements impacting a stock value can go way beyond we can sometimes imagine.\n",
    "\n",
    "<b>Note</b>: Part of this analysis on the paper of Alter and Oppenheimer is extracted from 'The Hidden Brain' of Shankar Vedantam."
   ]
  },
  {
   "cell_type": "markdown",
   "metadata": {},
   "source": [
    "That kind of discoveries leads us to the conclusion that we need to find a way to discover features without getting biased by the human judgement. Such automatic process is called 'feature learning' and is defined as followed on Wikipedia:\n",
    "\n",
    "\"In machine learning, feature learning or representation learning is a set of techniques that learn a feature: a transformation of raw data input to a representation that can be effectively exploited in machine learning tasks. This obviates manual feature engineering, which is otherwise necessary, and allows a machine to both learn at a specific task (using the features) and learn the features themselves: to learn how to learn.\n",
    "\n",
    "Feature learning is motivated by the fact that machine learning tasks such as classification often require input that is mathematically and computationally convenient to process. However, real-world data such as images, video, and sensor measurement is usually complex, redundant, and highly variable. Thus, it is necessary to discover useful features or representations from raw data. <b>Traditional hand-crafted features often require expensive human labor and often rely on expert knowledge. Also, they normally do not generalize well. This motivates the design of efficient feature learning techniques, to automate and generalize this.</b>\"\n",
    "\n",
    "Some people already started to apply Deep Learning techniques to find useful features from raw stock market data. It is the case, for example, of two students from Stanford who made their project of Machine Learning class (CS229) on that topic. Their results are presented in the paper 'Applying Deep Learning to Enhance Momentum Trading Strategies in Stocks' available here: http://cs229.stanford.edu/proj2013/TakeuchiLee-ApplyingDeepLearningToEnhanceMomentumTradingStrategiesInStocks.pdf . \n",
    "\n",
    "In their introduction they present the challenge it is to conduct such a task:\n",
    "\"In this paper we examine whether deep learning techniques can discover features in the time series of stock prices that can successfully predict future returns. The objective is a challenging one. While most research in deep learning considers tasks that are easy for humans to accomplish, predicting stock returns using publicly available information is notoriously difficult even for professional investors given the high level of noise in stock price movements. Furthermore, any patterns that exist are subject to change as investors themselves learn over time and compete for trading profits.\"\n",
    "\n",
    "Therefore, we can conclude that financial risk analysis and stock market prediction will continue to evolve along the evolution of Deep Learning and related fields."
   ]
  },
  {
   "cell_type": "markdown",
   "metadata": {},
   "source": [
    "# 6. Summary\n",
    "In this lecture, we studied the Monte Carlo Simulation method and its application to estimate financial risk. To apply it, first, we needed to define the relationship between market factors and the instruments' returns. In such step, you must define the model which maps the market factors' values to the instruments' values: in our use case, we used a linear regression function for building our model. Next, we also had to find the parameters of our model, which are the weights of the factors we considered. Then, we had to study the distribution of each market factor. A good way to do that is using Kernel density estimation to smooth the distribution and plot it. Depending on the shape of each figure, we had to guess the best fit distribution for each factor: in our use case, we used a very simple approach, and decided that our smoothed distributions all looked normal distributions. \n",
    "\n",
    "Then, the idea of Monte Carlo simulation was to generate many possible values for each factors and calculate the corresponding outcomes by a well defined model in each trial. After many trials, we were able to calculate VaR from the sequences of outcome's values. When the number of trials is large enough, the VaR converges to reasonable values, that we could validate using well-known statistica"
   ]
  },
  {
   "cell_type": "markdown",
   "metadata": {
    "collapsed": true
   },
   "source": [
    "# References\n",
    "- The example in section 2 is inspired from [this article](http://www.solver.com/monte-carlo-simulation-example).\n",
    "- [Backtesting Value-at-Risk models](https://aaltodoc.aalto.fi/bitstream/handle/123456789/181/hse_ethesis_12049.pdf?sequence=1) (Kansantaloustiede, 2009) - (A good reference to study Backtesting).\n"
   ]
  },
  {
   "cell_type": "code",
   "execution_count": null,
   "metadata": {
    "collapsed": true
   },
   "outputs": [],
   "source": []
  }
 ],
 "metadata": {
  "kernelspec": {
   "display_name": "Python 2",
   "language": "python",
   "name": "python2"
  },
  "language_info": {
   "codemirror_mode": {
    "name": "ipython",
    "version": 2
   },
   "file_extension": ".py",
   "mimetype": "text/x-python",
   "name": "python",
   "nbconvert_exporter": "python",
   "pygments_lexer": "ipython2",
   "version": "2.7.11"
  }
 },
 "nbformat": 4,
 "nbformat_minor": 0
}
